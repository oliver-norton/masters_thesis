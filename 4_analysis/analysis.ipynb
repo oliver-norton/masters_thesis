{
 "cells": [
  {
   "cell_type": "markdown",
   "id": "3bef9014-0bb6-4fbb-8681-6c33cd0df002",
   "metadata": {
    "jp-MarkdownHeadingCollapsed": true
   },
   "source": [
    "# Packages"
   ]
  },
  {
   "cell_type": "code",
   "execution_count": 1,
   "id": "9512b7f5",
   "metadata": {},
   "outputs": [
    {
     "name": "stdout",
     "output_type": "stream",
     "text": [
      "Collecting seaborn (from -r requirements_short_3.txt (line 1))\n",
      "  Obtaining dependency information for seaborn from https://files.pythonhosted.org/packages/7b/e5/83fcd7e9db036c179e0352bfcd20f81d728197a16f883e7b90307a88e65e/seaborn-0.13.0-py3-none-any.whl.metadata\n",
      "  Downloading seaborn-0.13.0-py3-none-any.whl.metadata (5.3 kB)\n",
      "Collecting networkx (from -r requirements_short_3.txt (line 2))\n",
      "  Obtaining dependency information for networkx from https://files.pythonhosted.org/packages/d5/f0/8fbc882ca80cf077f1b246c0e3c3465f7f415439bdea6b899f6b19f61f70/networkx-3.2.1-py3-none-any.whl.metadata\n",
      "  Downloading networkx-3.2.1-py3-none-any.whl.metadata (5.2 kB)\n",
      "Collecting sympy (from -r requirements_short_3.txt (line 3))\n",
      "  Downloading sympy-1.12-py3-none-any.whl (5.7 MB)\n",
      "\u001b[2K     \u001b[90m━━━━━━━━━━━━━━━━━━━━━━━━━━━━━━━━━━━━━━━━\u001b[0m \u001b[32m5.7/5.7 MB\u001b[0m \u001b[31m27.8 MB/s\u001b[0m eta \u001b[36m0:00:00\u001b[0m00:01\u001b[0m00:01\u001b[0m\n",
      "\u001b[?25hCollecting scipy (from -r requirements_short_3.txt (line 4))\n",
      "  Obtaining dependency information for scipy from https://files.pythonhosted.org/packages/e0/9e/80e2205d138960a49caea391f3710600895dd8292b6868dc9aff7aa593f9/scipy-1.11.4-cp310-cp310-manylinux_2_17_x86_64.manylinux2014_x86_64.whl.metadata\n",
      "  Downloading scipy-1.11.4-cp310-cp310-manylinux_2_17_x86_64.manylinux2014_x86_64.whl.metadata (60 kB)\n",
      "\u001b[2K     \u001b[90m━━━━━━━━━━━━━━━━━━━━━━━━━━━━━━━━━━━━━━━━\u001b[0m \u001b[32m60.4/60.4 kB\u001b[0m \u001b[31m2.4 MB/s\u001b[0m eta \u001b[36m0:00:00\u001b[0m\n",
      "\u001b[?25hCollecting scikit-learn (from -r requirements_short_3.txt (line 5))\n",
      "  Obtaining dependency information for scikit-learn from https://files.pythonhosted.org/packages/d0/0b/26ad95cf0b747be967b15fb71a06f5ac67aba0fd2f9cd174de6edefc4674/scikit_learn-1.3.2-cp310-cp310-manylinux_2_17_x86_64.manylinux2014_x86_64.whl.metadata\n",
      "  Downloading scikit_learn-1.3.2-cp310-cp310-manylinux_2_17_x86_64.manylinux2014_x86_64.whl.metadata (11 kB)\n",
      "Collecting openpyxl (from -r requirements_short_3.txt (line 6))\n",
      "  Downloading openpyxl-3.1.2-py2.py3-none-any.whl (249 kB)\n",
      "\u001b[2K     \u001b[90m━━━━━━━━━━━━━━━━━━━━━━━━━━━━━━━━━━━━━━━\u001b[0m \u001b[32m250.0/250.0 kB\u001b[0m \u001b[31m7.6 MB/s\u001b[0m eta \u001b[36m0:00:00\u001b[0m\n",
      "\u001b[?25hRequirement already satisfied: numpy!=1.24.0,>=1.20 in /opt/conda/lib/python3.10/site-packages (from seaborn->-r requirements_short_3.txt (line 1)) (1.26.2)\n",
      "Requirement already satisfied: pandas>=1.2 in /opt/conda/lib/python3.10/site-packages (from seaborn->-r requirements_short_3.txt (line 1)) (2.1.3)\n",
      "Requirement already satisfied: matplotlib!=3.6.1,>=3.3 in /opt/conda/lib/python3.10/site-packages (from seaborn->-r requirements_short_3.txt (line 1)) (3.8.2)\n",
      "Collecting mpmath>=0.19 (from sympy->-r requirements_short_3.txt (line 3))\n",
      "  Downloading mpmath-1.3.0-py3-none-any.whl (536 kB)\n",
      "\u001b[2K     \u001b[90m━━━━━━━━━━━━━━━━━━━━━━━━━━━━━━━━━━━━━━\u001b[0m \u001b[32m536.2/536.2 kB\u001b[0m \u001b[31m16.2 MB/s\u001b[0m eta \u001b[36m0:00:00\u001b[0m\n",
      "\u001b[?25hCollecting joblib>=1.1.1 (from scikit-learn->-r requirements_short_3.txt (line 5))\n",
      "  Obtaining dependency information for joblib>=1.1.1 from https://files.pythonhosted.org/packages/10/40/d551139c85db202f1f384ba8bcf96aca2f329440a844f924c8a0040b6d02/joblib-1.3.2-py3-none-any.whl.metadata\n",
      "  Downloading joblib-1.3.2-py3-none-any.whl.metadata (5.4 kB)\n",
      "Collecting threadpoolctl>=2.0.0 (from scikit-learn->-r requirements_short_3.txt (line 5))\n",
      "  Obtaining dependency information for threadpoolctl>=2.0.0 from https://files.pythonhosted.org/packages/81/12/fd4dea011af9d69e1cad05c75f3f7202cdcbeac9b712eea58ca779a72865/threadpoolctl-3.2.0-py3-none-any.whl.metadata\n",
      "  Downloading threadpoolctl-3.2.0-py3-none-any.whl.metadata (10.0 kB)\n",
      "Collecting et-xmlfile (from openpyxl->-r requirements_short_3.txt (line 6))\n",
      "  Downloading et_xmlfile-1.1.0-py3-none-any.whl (4.7 kB)\n",
      "Requirement already satisfied: contourpy>=1.0.1 in /opt/conda/lib/python3.10/site-packages (from matplotlib!=3.6.1,>=3.3->seaborn->-r requirements_short_3.txt (line 1)) (1.2.0)\n",
      "Requirement already satisfied: cycler>=0.10 in /opt/conda/lib/python3.10/site-packages (from matplotlib!=3.6.1,>=3.3->seaborn->-r requirements_short_3.txt (line 1)) (0.12.1)\n",
      "Requirement already satisfied: fonttools>=4.22.0 in /opt/conda/lib/python3.10/site-packages (from matplotlib!=3.6.1,>=3.3->seaborn->-r requirements_short_3.txt (line 1)) (4.45.1)\n",
      "Requirement already satisfied: kiwisolver>=1.3.1 in /opt/conda/lib/python3.10/site-packages (from matplotlib!=3.6.1,>=3.3->seaborn->-r requirements_short_3.txt (line 1)) (1.4.5)\n",
      "Requirement already satisfied: packaging>=20.0 in /opt/conda/lib/python3.10/site-packages (from matplotlib!=3.6.1,>=3.3->seaborn->-r requirements_short_3.txt (line 1)) (23.1)\n",
      "Requirement already satisfied: pillow>=8 in /opt/conda/lib/python3.10/site-packages (from matplotlib!=3.6.1,>=3.3->seaborn->-r requirements_short_3.txt (line 1)) (10.1.0)\n",
      "Requirement already satisfied: pyparsing>=2.3.1 in /opt/conda/lib/python3.10/site-packages (from matplotlib!=3.6.1,>=3.3->seaborn->-r requirements_short_3.txt (line 1)) (3.1.1)\n",
      "Requirement already satisfied: python-dateutil>=2.7 in /opt/conda/lib/python3.10/site-packages (from matplotlib!=3.6.1,>=3.3->seaborn->-r requirements_short_3.txt (line 1)) (2.8.2)\n",
      "Requirement already satisfied: pytz>=2020.1 in /opt/conda/lib/python3.10/site-packages (from pandas>=1.2->seaborn->-r requirements_short_3.txt (line 1)) (2023.3.post1)\n",
      "Requirement already satisfied: tzdata>=2022.1 in /opt/conda/lib/python3.10/site-packages (from pandas>=1.2->seaborn->-r requirements_short_3.txt (line 1)) (2023.3)\n",
      "Requirement already satisfied: six>=1.5 in /opt/conda/lib/python3.10/site-packages (from python-dateutil>=2.7->matplotlib!=3.6.1,>=3.3->seaborn->-r requirements_short_3.txt (line 1)) (1.16.0)\n",
      "Downloading seaborn-0.13.0-py3-none-any.whl (294 kB)\n",
      "\u001b[2K   \u001b[90m━━━━━━━━━━━━━━━━━━━━━━━━━━━━━━━━━━━━━━━━\u001b[0m \u001b[32m294.6/294.6 kB\u001b[0m \u001b[31m6.4 MB/s\u001b[0m eta \u001b[36m0:00:00\u001b[0mta \u001b[36m0:00:01\u001b[0m\n",
      "\u001b[?25hDownloading networkx-3.2.1-py3-none-any.whl (1.6 MB)\n",
      "\u001b[2K   \u001b[90m━━━━━━━━━━━━━━━━━━━━━━━━━━━━━━━━━━━━━━━━\u001b[0m \u001b[32m1.6/1.6 MB\u001b[0m \u001b[31m26.3 MB/s\u001b[0m eta \u001b[36m0:00:00\u001b[0m:00:01\u001b[0m\n",
      "\u001b[?25hDownloading scipy-1.11.4-cp310-cp310-manylinux_2_17_x86_64.manylinux2014_x86_64.whl (36.4 MB)\n",
      "\u001b[2K   \u001b[90m━━━━━━━━━━━━━━━━━━━━━━━━━━━━━━━━━━━━━━━━\u001b[0m \u001b[32m36.4/36.4 MB\u001b[0m \u001b[31m35.8 MB/s\u001b[0m eta \u001b[36m0:00:00\u001b[0m:00:01\u001b[0m00:01\u001b[0m\n",
      "\u001b[?25hDownloading scikit_learn-1.3.2-cp310-cp310-manylinux_2_17_x86_64.manylinux2014_x86_64.whl (10.8 MB)\n",
      "\u001b[2K   \u001b[90m━━━━━━━━━━━━━━━━━━━━━━━━━━━━━━━━━━━━━━━━\u001b[0m \u001b[32m10.8/10.8 MB\u001b[0m \u001b[31m59.0 MB/s\u001b[0m eta \u001b[36m0:00:00\u001b[0m:00:01\u001b[0m0:01\u001b[0m\n",
      "\u001b[?25hDownloading joblib-1.3.2-py3-none-any.whl (302 kB)\n",
      "\u001b[2K   \u001b[90m━━━━━━━━━━━━━━━━━━━━━━━━━━━━━━━━━━━━━━━━\u001b[0m \u001b[32m302.2/302.2 kB\u001b[0m \u001b[31m11.3 MB/s\u001b[0m eta \u001b[36m0:00:00\u001b[0m\n",
      "\u001b[?25hDownloading threadpoolctl-3.2.0-py3-none-any.whl (15 kB)\n",
      "Installing collected packages: mpmath, threadpoolctl, sympy, scipy, networkx, joblib, et-xmlfile, scikit-learn, openpyxl, seaborn\n",
      "Successfully installed et-xmlfile-1.1.0 joblib-1.3.2 mpmath-1.3.0 networkx-3.2.1 openpyxl-3.1.2 scikit-learn-1.3.2 scipy-1.11.4 seaborn-0.13.0 sympy-1.12 threadpoolctl-3.2.0\n",
      "Note: you may need to restart the kernel to use updated packages.\n"
     ]
    }
   ],
   "source": [
    "pip install -r requirements_short_3.txt"
   ]
  },
  {
   "cell_type": "code",
   "execution_count": 2,
   "id": "aaab148c",
   "metadata": {},
   "outputs": [
    {
     "name": "stderr",
     "output_type": "stream",
     "text": [
      "/tmp/ipykernel_182/884034354.py:21: DeprecationWarning: the imp module is deprecated in favour of importlib and slated for removal in Python 3.12; see the module's documentation for alternative uses\n",
      "  import imp\n"
     ]
    }
   ],
   "source": [
    "import pandas as pd\n",
    "import networkx as nx\n",
    "import matplotlib.pyplot as plt\n",
    "from multipolar import de_groot_models,polarization_visualization_tools\n",
    "import numpy as np\n",
    "from matplotlib import colors\n",
    "import seaborn as sns\n",
    "\n",
    "import pickle\n",
    "import sklearn\n",
    "import matplotlib\n",
    "matplotlib.use(\"Agg\")\n",
    "import matplotlib.pyplot as plt\n",
    "import networkx as nx\n",
    "import pickle\n",
    "# import graph_tool\n",
    "# from graph_tool import topology as gt_topology\n",
    "# from graph_tool import inference\n",
    "import copy\n",
    "import numpy as np\n",
    "import imp\n",
    "import pickle\n",
    "import warnings\n",
    "\n",
    "de_groot_models_paper = imp.load_source(\"de_groot_models\",\"2019_10_26_de_groot_models.py\")\n",
    "misc_tools_paper = imp.load_source(\"misc_tools\",\"2020_03_04_misc_tools.py\")\n",
    "polarization_visualization_tools_paper = imp.load_source(\"polarization_visualization_tools\",\"2019_11_23_polarization_visualization_tools.py\")\n",
    "\n",
    "from sklearn.decomposition import PCA"
   ]
  },
  {
   "cell_type": "markdown",
   "id": "8ef69671-530f-438e-aa11-9f639f6c89a0",
   "metadata": {},
   "source": [
    "# Create appropriate files "
   ]
  },
  {
   "cell_type": "markdown",
   "id": "6174649c-e726-439d-9da3-77c1243f1cbf",
   "metadata": {},
   "source": [
    "## Set parameters"
   ]
  },
  {
   "cell_type": "code",
   "execution_count": 3,
   "id": "c68f83b0-a7b5-4762-8c1c-1b3e7e6ee271",
   "metadata": {},
   "outputs": [],
   "source": [
    "run_name = 'inf_rate_test_4'\n",
    "\n",
    "part_rate = 7\n",
    "\n",
    "inf_rate = 400\n",
    "\n",
    "act_rate = 5\n",
    "\n",
    "ol_type = 'MPs_partyLeaders_OfficialAccounts_NonMPs'\n",
    "# ol_type = 'MPs_partyLeaders_OfficialAccounts_NonMPs'\n",
    "\n",
    "poles = 'legislative'\n"
   ]
  },
  {
   "cell_type": "markdown",
   "id": "a6b2974b",
   "metadata": {},
   "source": [
    "## Import dataset"
   ]
  },
  {
   "cell_type": "code",
   "execution_count": 10,
   "id": "7f4500fd-cf25-4645-b539-3c48e07ebe74",
   "metadata": {},
   "outputs": [],
   "source": [
    "# load retweet network (date,source,target,weight,day)\n",
    "# Define column headers\n",
    "column_headers = ['date', 'source', 'target', 'weight', 'day']\n",
    "\n",
    "# Load retweet network with headers\n",
    "df = pd.read_csv(\"./data/load/rt_net_unfiltered_2023-12-11_dup.csv\", header=None, names=column_headers)\n"
   ]
  },
  {
   "cell_type": "code",
   "execution_count": 11,
   "id": "e7a3d5ee-296d-4a34-a424-c1568a9233a2",
   "metadata": {},
   "outputs": [
    {
     "data": {
      "text/plain": [
       "16089093"
      ]
     },
     "execution_count": 11,
     "metadata": {},
     "output_type": "execute_result"
    }
   ],
   "source": [
    "len(df)"
   ]
  },
  {
   "cell_type": "markdown",
   "id": "8bd49fd4-1c97-4df5-b9b8-a29407dae72d",
   "metadata": {},
   "source": [
    "## Activity dictionary (act_dct) - already created, doesn't need to change"
   ]
  },
  {
   "cell_type": "code",
   "execution_count": 3,
   "id": "f9e331aa-d6a8-48ac-83a2-098bffbc616c",
   "metadata": {},
   "outputs": [],
   "source": [
    "rt_net = pd.read_csv('./data/load/rt_net_filtered_weighted_2023-12-11.csv',header=None)"
   ]
  },
  {
   "cell_type": "code",
   "execution_count": null,
   "id": "60ce5556-73a2-47d3-aa26-a57770228d70",
   "metadata": {},
   "outputs": [],
   "source": [
    "rt_net"
   ]
  },
  {
   "cell_type": "code",
   "execution_count": 4,
   "id": "a94e6d25-46ca-4345-b4fe-91c9efa06b3e",
   "metadata": {},
   "outputs": [],
   "source": [
    "# Convert to dictionary in the format '<source>': {'act': <weight>}\n",
    "act_dict = {f\"{row[0]}\": {'act': row[2]} for _, row in rt_net.iterrows()}"
   ]
  },
  {
   "cell_type": "code",
   "execution_count": 5,
   "id": "fa3095d8-17c9-4107-bfa1-ede55e9dbed4",
   "metadata": {},
   "outputs": [],
   "source": [
    "with open('./data/load/act_dict_2023-12-10_dup.pkl', 'wb') as f:\n",
    "    pickle.dump(act_dict, f)"
   ]
  },
  {
   "cell_type": "code",
   "execution_count": 6,
   "id": "fae6b7f6-0602-481d-85b2-991d373d024d",
   "metadata": {},
   "outputs": [
    {
     "data": {
      "text/plain": [
       "824603"
      ]
     },
     "execution_count": 6,
     "metadata": {},
     "output_type": "execute_result"
    }
   ],
   "source": [
    "len(act_dict)"
   ]
  },
  {
   "cell_type": "code",
   "execution_count": null,
   "id": "0404a223-9123-463b-b78f-02b4d99581c6",
   "metadata": {},
   "outputs": [],
   "source": [
    "rt_net"
   ]
  },
  {
   "cell_type": "code",
   "execution_count": 16,
   "id": "22671426-055c-4ebf-aec4-ef5767d3bcef",
   "metadata": {},
   "outputs": [],
   "source": [
    "# # Search for rows where column 1 contains 'macron'\n",
    "# search_result = rt_net[1].str.contains('EmmanuelMacron', case=False, na=False)\n",
    "\n",
    "# # Filter the DataFrame based on the search result\n",
    "# result_df = rt_net[search_result]"
   ]
  },
  {
   "cell_type": "markdown",
   "id": "cea14063-62bb-442e-9d62-f2413d5020d6",
   "metadata": {},
   "source": [
    "Who are the most active listeners/users?  "
   ]
  },
  {
   "cell_type": "code",
   "execution_count": 20,
   "id": "66b23bc1-10c6-4762-82a2-cc1fef09663b",
   "metadata": {},
   "outputs": [],
   "source": [
    "sorted_act_dict = dict(sorted(act_dict.items(), key=lambda item: item[1]['act'], reverse=True))"
   ]
  },
  {
   "cell_type": "code",
   "execution_count": 21,
   "id": "c586db8b-9557-47e2-8cdf-b9924695cd7b",
   "metadata": {},
   "outputs": [],
   "source": [
    "act_df = pd.DataFrame({'Key': list(sorted_act_dict.keys()), 'Value': [item['act'] for item in sorted_act_dict.values()]})"
   ]
  },
  {
   "cell_type": "code",
   "execution_count": null,
   "id": "dbe6cbc0-bce8-4c96-afee-16766dee74e2",
   "metadata": {},
   "outputs": [],
   "source": [
    "act_df[0:20]"
   ]
  },
  {
   "cell_type": "code",
   "execution_count": 108,
   "id": "054405d0-b4fc-47ff-a9f4-10c557c323a6",
   "metadata": {},
   "outputs": [
    {
     "data": {
      "text/plain": [
       "count    824603.000000\n",
       "mean          1.109683\n",
       "std           1.327893\n",
       "min           1.000000\n",
       "25%           1.000000\n",
       "50%           1.000000\n",
       "75%           1.000000\n",
       "max         449.000000\n",
       "Name: Value, dtype: float64"
      ]
     },
     "execution_count": 108,
     "metadata": {},
     "output_type": "execute_result"
    }
   ],
   "source": [
    "act_df.Value.describe()"
   ]
  },
  {
   "cell_type": "code",
   "execution_count": 20,
   "id": "e002729b-38bf-4eb6-afbd-8fd62e7b13ec",
   "metadata": {},
   "outputs": [],
   "source": [
    "act_df.to_excel('act_df_.xlsx')"
   ]
  },
  {
   "cell_type": "markdown",
   "id": "5a7594a7-4b5f-46eb-8985-566c92d656b1",
   "metadata": {},
   "source": [
    "## Choose your opinion leaders"
   ]
  },
  {
   "cell_type": "code",
   "execution_count": 6,
   "id": "a2bc3a86-d193-4d33-befc-51a5b2278728",
   "metadata": {},
   "outputs": [],
   "source": [
    "# You first need to decide what you're filtering by for OLs - only MPs, MPs and official accounts etc - also what poles "
   ]
  },
  {
   "cell_type": "code",
   "execution_count": 4,
   "id": "f0a7c12d-f241-4116-aa12-4dc45febad15",
   "metadata": {},
   "outputs": [],
   "source": [
    "# load full list of OLs\n",
    "\n",
    "# Read the 'all_mps' sheet from the Excel file\n",
    "df_OLs = pd.read_excel('./data/twitter_handles/ols_gross_3.xlsx', sheet_name='OLs')"
   ]
  },
  {
   "cell_type": "code",
   "execution_count": 5,
   "id": "6ad1c6e5-90a7-4423-800b-4d13863502d9",
   "metadata": {},
   "outputs": [],
   "source": [
    "#including 'MPs_partyLeaders_OfficialAccounts_NonMPs'\n",
    "\n",
    "df_OLs_baseline = df_OLs[(df_OLs['political group'].isin(['Ensemble', 'NUPES', 'LR', 'RN'])) & (df_OLs['handle'].notna())]"
   ]
  },
  {
   "cell_type": "code",
   "execution_count": 6,
   "id": "a95e199a-586d-47f5-b5ce-406d280ed778",
   "metadata": {},
   "outputs": [
    {
     "data": {
      "text/plain": [
       "421"
      ]
     },
     "execution_count": 6,
     "metadata": {},
     "output_type": "execute_result"
    }
   ],
   "source": [
    "len(df_OLs_baseline)\n"
   ]
  },
  {
   "cell_type": "code",
   "execution_count": 7,
   "id": "1e28e80a-e4dd-4017-8ba2-9fc4a903f1bd",
   "metadata": {},
   "outputs": [
    {
     "data": {
      "text/plain": [
       "political group\n",
       "Ensemble    182\n",
       "LR           83\n",
       "NUPES       102\n",
       "RN           54\n",
       "dtype: int64"
      ]
     },
     "execution_count": 7,
     "metadata": {},
     "output_type": "execute_result"
    }
   ],
   "source": [
    "df_OLs_baseline.groupby('political group').size()"
   ]
  },
  {
   "cell_type": "markdown",
   "id": "14ba84be-570a-4396-8e60-824dd4cda67e",
   "metadata": {},
   "source": [
    "How many Opinion Leaders are present in our initial dataset?"
   ]
  },
  {
   "cell_type": "code",
   "execution_count": null,
   "id": "e49625a8-a481-489f-8ab4-8d54169a7258",
   "metadata": {},
   "outputs": [],
   "source": [
    "df"
   ]
  },
  {
   "cell_type": "code",
   "execution_count": 13,
   "id": "4d0dba5e-e0dc-4870-a7a1-43981f75d806",
   "metadata": {},
   "outputs": [
    {
     "name": "stdout",
     "output_type": "stream",
     "text": [
      "Number of handles in df['target']: 237\n",
      "Number of handles not in df['target']: 184\n"
     ]
    }
   ],
   "source": [
    "# Check if df_OLs_baseline['handle'] is in df['target']\n",
    "handles_in_target = df_OLs_baseline['handle'].isin(df['target'])\n",
    "\n",
    "# Count how many are and aren't in df['target']\n",
    "count_in_target = handles_in_target.sum()\n",
    "count_not_in_target = len(df_OLs_baseline) - count_in_target\n",
    "\n",
    "# Print the results\n",
    "print(f\"Number of handles in df['target']: {count_in_target}\")\n",
    "print(f\"Number of handles not in df['target']: {count_not_in_target}\")"
   ]
  },
  {
   "cell_type": "code",
   "execution_count": null,
   "id": "b7ded585-292b-42f4-9199-9719e07ab914",
   "metadata": {},
   "outputs": [],
   "source": [
    "# Define the file path with OLs_retweeted_weight in the name\n",
    "file_path = f\"data/twitter_handles/OLs_by_retweets/OLs_initial_in_data_{run_name}.xlsx\"\n",
    "\n",
    "# Save the DataFrame to an Excel file\n",
    "sum_per_target_sorted_with_group.to_excel(file_path, index=True, header=True, sheet_name='Sheet1')"
   ]
  },
  {
   "cell_type": "markdown",
   "id": "b69d3ce1-ff17-4fb8-8d03-aa9db65ab97c",
   "metadata": {},
   "source": [
    "#### Filter by influence threshold (in-directed retweets)"
   ]
  },
  {
   "cell_type": "code",
   "execution_count": 14,
   "id": "becdb60a-3e50-4dd2-9ce3-3fcc7a9db5ea",
   "metadata": {},
   "outputs": [],
   "source": [
    "# how many in-directed retweets are needed to be an OL\n",
    "\n",
    "####### filter by influence (1000 rt)\n",
    "df_influential_users = df.copy()\n",
    "\n",
    "df_influential_users = df_influential_users[df_influential_users.groupby('target')['weight'].transform('sum') > inf_rate]\n",
    "df_influential_users = df_influential_users.reset_index(drop=True)\n"
   ]
  },
  {
   "cell_type": "markdown",
   "id": "3adbaaa9-c76d-4ea8-8c82-0d94341bb0fd",
   "metadata": {},
   "source": [
    "How many Opinion Leaders are influential based on influence threshold? "
   ]
  },
  {
   "cell_type": "code",
   "execution_count": 15,
   "id": "c869367b-6d32-41e4-a240-e7d2dfc83948",
   "metadata": {},
   "outputs": [
    {
     "name": "stdout",
     "output_type": "stream",
     "text": [
      "Opinion Leaders who are influential: 78\n",
      "Opinion Leaders who are not influential: 343\n"
     ]
    }
   ],
   "source": [
    "# Extract the 'twitter_handle' values from df_elites and filtered_targets\n",
    "twitter_handles_in_df = df_OLs_baseline['handle']\n",
    "twitter_handles_in_target = df_influential_users['target']\n",
    "\n",
    "# Find twitter handles that are in the target list\n",
    "handles_found_in_target_INF_RATE = twitter_handles_in_df[twitter_handles_in_df.isin(twitter_handles_in_target)].tolist()\n",
    "\n",
    "# Find twitter handles that are not in the target list\n",
    "handles_not_found_in_target = twitter_handles_in_df[~twitter_handles_in_df.isin(twitter_handles_in_target)].tolist()\n",
    "\n",
    "print(\"Opinion Leaders who are influential:\", len(handles_found_in_target_INF_RATE))\n",
    "print(\"Opinion Leaders who are not influential:\", len(handles_not_found_in_target))"
   ]
  },
  {
   "cell_type": "markdown",
   "id": "7259226a-2aab-4bce-af97-191ebbdfcac3",
   "metadata": {},
   "source": [
    "How many OLs are left by party/political group?"
   ]
  },
  {
   "cell_type": "code",
   "execution_count": 16,
   "id": "2773de34-67e9-4f2a-8715-0e89e85179df",
   "metadata": {},
   "outputs": [
    {
     "data": {
      "text/plain": [
       "political group\n",
       "Ensemble    32\n",
       "NUPES       27\n",
       "RN          10\n",
       "LR           9\n",
       "Name: count, dtype: int64"
      ]
     },
     "execution_count": 16,
     "metadata": {},
     "output_type": "execute_result"
    }
   ],
   "source": [
    "df_OLs_baseline[df_OLs_baseline['handle'].isin(handles_found_in_target_INF_RATE)]['political group'].value_counts()"
   ]
  },
  {
   "cell_type": "markdown",
   "id": "03d6a0ae-5455-4cfe-be69-d896acc633fc",
   "metadata": {},
   "source": [
    "#### Filter by participation rate (days when an OL tweets)"
   ]
  },
  {
   "cell_type": "code",
   "execution_count": 17,
   "id": "096fe75c-d1c9-4453-9e07-d196caf03a4f",
   "metadata": {},
   "outputs": [
    {
     "data": {
      "text/plain": [
       "7"
      ]
     },
     "execution_count": 17,
     "metadata": {},
     "output_type": "execute_result"
    }
   ],
   "source": [
    "part_rate"
   ]
  },
  {
   "cell_type": "code",
   "execution_count": 18,
   "id": "34e2d0ba-f01e-4ab3-b413-949b9fee8956",
   "metadata": {},
   "outputs": [],
   "source": [
    "############################### A: Filter by number of days \n",
    " # 70% participation rate   DAYS out of 25\n",
    "\n",
    "# Group by 'day' and 'target' and count the occurrences\n",
    "target_counts_per_day = df_influential_users.groupby(['day', 'target']).size().reset_index(name='count')\n",
    "# Get the total number of unique days in the dataset\n",
    "# total_days = df_influential_users['day'].nunique()\n",
    "\n",
    "\n",
    "# Filter targets that appear at least once every day\n",
    "filtered_targets = target_counts_per_day.groupby('target').filter(lambda x: len(x) >= part_rate)\n",
    "\n",
    "############################## B: Filter by only 3 days before 1st and 2nd round elections \n",
    "\n",
    "# Extract the 'twitter_handle' values from df_elites and filtered_targets\n",
    "twitter_handles_in_df = df_OLs_baseline['handle']\n",
    "twitter_handles_in_target = filtered_targets['target']\n",
    "\n",
    "# Find twitter handles that are in the target list\n",
    "handles_found_in_target_PART_RATE = twitter_handles_in_df[twitter_handles_in_df.isin(twitter_handles_in_target)].tolist()\n",
    "\n",
    "# Find twitter handles that are not in the target list\n",
    "handles_not_found_in_target = twitter_handles_in_df[~twitter_handles_in_df.isin(twitter_handles_in_target)].tolist()"
   ]
  },
  {
   "cell_type": "markdown",
   "id": "789f13b5-bc9f-4edb-847b-77efce38996b",
   "metadata": {},
   "source": [
    "How many OLs are left by party/political group?"
   ]
  },
  {
   "cell_type": "code",
   "execution_count": 19,
   "id": "614ec4f2-bd4f-4275-9093-3cb35e4e9654",
   "metadata": {},
   "outputs": [
    {
     "name": "stdout",
     "output_type": "stream",
     "text": [
      "Handles found in the target list: 78\n",
      "Handles not found in the target list: 343\n",
      "AgnesRunacher al_petel ALeaument alexiscorbiere alma_dufour AQuatennens AurelienPradie Aurelientache avecvous BallardPhilippe benjaminhaddad brigitte_kuster BrunoLeMaire CarolineFiat54 CaronAymericoff CBeaune celinecalvez ChJacob77 ChristopheBechu Clem_Autain Clemence_Guette CZacharopoulou damienabad Deputee_Obono diaz_edwige E_DupondM ebothorel ECiotti EELV Elisabeth_Borne EmmanuelMacron enmarchefr ericcoquerel ericwoerth FJolivet36 franckallisio franckriester Francois_Ruffin FraPiquemal GabrielAttal GDarmanin GillesLeGendre GLarrive JLechanteux JLMelenchon jmzulesi JulienAubert84 JulienOdoul KarineLebon l_boyard ljacobelli mbompard mguevenoux MichelZumkeller MLP_officiel NMeizonnet OlgaGivernet oliviagregoire olivierdussopt olivierveran PaulVannierFI phdumont Portes_Thomas PrudhommeLoic RaquelGarridoFr SachaHoulie sebastienjumel sebchenu SebLecornu StanGuerini stephane1peu TrouveAurelie trudigoz vpecresse WilliamMartinet YaelBRAUNPIVET yjadot YoannGillet30\n"
     ]
    }
   ],
   "source": [
    "print(\"Handles found in the target list:\", len(handles_found_in_target_PART_RATE))\n",
    "print(\"Handles not found in the target list:\", len(handles_not_found_in_target))\n",
    "print(*handles_found_in_target_PART_RATE, sep=' ')"
   ]
  },
  {
   "cell_type": "markdown",
   "id": "ec9edda1-6209-4836-b6e8-f076238db59f",
   "metadata": {},
   "source": [
    "#### Final OLs after filtering"
   ]
  },
  {
   "cell_type": "markdown",
   "id": "d4aa86df-05dc-4d9c-8c12-d5ce6704064c",
   "metadata": {},
   "source": [
    "Combine the two - so we can see how many handles are left after filters"
   ]
  },
  {
   "cell_type": "code",
   "execution_count": 20,
   "id": "17f007f4-5fd4-4fa7-8d8f-6b0ff508ea48",
   "metadata": {},
   "outputs": [],
   "source": [
    "unique_handles = list(set(handles_found_in_target_PART_RATE) & set(handles_found_in_target_INF_RATE))"
   ]
  },
  {
   "cell_type": "code",
   "execution_count": 21,
   "id": "e9dd6edb-9077-4f2a-9471-a9939a189f66",
   "metadata": {},
   "outputs": [
    {
     "data": {
      "text/plain": [
       "78"
      ]
     },
     "execution_count": 21,
     "metadata": {},
     "output_type": "execute_result"
    }
   ],
   "source": [
    "len(unique_handles)"
   ]
  },
  {
   "cell_type": "code",
   "execution_count": 22,
   "id": "de5a7842-d368-4a0a-ba2b-a14223b89616",
   "metadata": {},
   "outputs": [
    {
     "data": {
      "text/plain": [
       "political group\n",
       "Ensemble    32\n",
       "NUPES       27\n",
       "RN          10\n",
       "LR           9\n",
       "Name: count, dtype: int64"
      ]
     },
     "execution_count": 22,
     "metadata": {},
     "output_type": "execute_result"
    }
   ],
   "source": [
    "df_OLs_baseline[df_OLs_baseline['handle'].isin(unique_handles)]['political group'].value_counts()"
   ]
  },
  {
   "cell_type": "code",
   "execution_count": 23,
   "id": "79bb38f9-d5c9-4b9a-87ff-287f9d3890eb",
   "metadata": {},
   "outputs": [
    {
     "data": {
      "text/plain": [
       "4      Ensemble\n",
       "5      Ensemble\n",
       "7         NUPES\n",
       "12        NUPES\n",
       "16        NUPES\n",
       "         ...   \n",
       "461          LR\n",
       "463       NUPES\n",
       "465    Ensemble\n",
       "470       NUPES\n",
       "471          RN\n",
       "Name: political group, Length: 78, dtype: object"
      ]
     },
     "execution_count": 23,
     "metadata": {},
     "output_type": "execute_result"
    }
   ],
   "source": [
    "df_OLs_baseline[df_OLs_baseline['handle'].isin(unique_handles)]['political group']"
   ]
  },
  {
   "cell_type": "markdown",
   "id": "9e13a303-484d-49c0-86b9-aa508a814e0b",
   "metadata": {},
   "source": [
    "Which OLs are the most retweeted? (is it MLP? Macron? Someone else?)"
   ]
  },
  {
   "cell_type": "code",
   "execution_count": 25,
   "id": "50705cff-509a-4dc9-ad0e-e10ffbbeb7e2",
   "metadata": {},
   "outputs": [
    {
     "name": "stdout",
     "output_type": "stream",
     "text": [
      "target\n",
      "JLMelenchon        184440\n",
      "MLP_officiel       163282\n",
      "AQuatennens         50798\n",
      "Portes_Thomas       45406\n",
      "Francois_Ruffin     25801\n",
      "                    ...  \n",
      "jmzulesi              475\n",
      "KarineLebon           459\n",
      "E_DupondM             425\n",
      "phdumont              422\n",
      "GillesLeGendre        421\n",
      "Name: weight, Length: 78, dtype: int64\n"
     ]
    }
   ],
   "source": [
    "# Filter DataFrame based on 'target' column\n",
    "OLs_retweeted = df[df['target'].isin(unique_handles)]\n",
    "\n",
    "# Calculate the sum of 'weight' column for the filtered rows\n",
    "OLs_retweeted_weight = OLs_retweeted.groupby('target')['weight'].sum()\n",
    "OLs_retweeted_weight = OLs_retweeted_weight.sort_values(ascending=False)\n",
    "\n",
    "print(OLs_retweeted_weight)"
   ]
  },
  {
   "cell_type": "code",
   "execution_count": 26,
   "id": "13f4b86f-330f-4217-a127-a76d078e8c7b",
   "metadata": {},
   "outputs": [],
   "source": [
    "OLs_retweeted_weight_by_pol_group = pd.merge(OLs_retweeted_weight, df_OLs_baseline[['handle', 'political group']], left_on='target', right_on='handle', how='left')"
   ]
  },
  {
   "cell_type": "code",
   "execution_count": 27,
   "id": "b6a00d64-27d8-437c-8454-38473d7b4575",
   "metadata": {},
   "outputs": [
    {
     "data": {
      "text/html": [
       "<div>\n",
       "<style scoped>\n",
       "    .dataframe tbody tr th:only-of-type {\n",
       "        vertical-align: middle;\n",
       "    }\n",
       "\n",
       "    .dataframe tbody tr th {\n",
       "        vertical-align: top;\n",
       "    }\n",
       "\n",
       "    .dataframe thead th {\n",
       "        text-align: right;\n",
       "    }\n",
       "</style>\n",
       "<table border=\"1\" class=\"dataframe\">\n",
       "  <thead>\n",
       "    <tr style=\"text-align: right;\">\n",
       "      <th></th>\n",
       "      <th>weight</th>\n",
       "      <th>handle</th>\n",
       "      <th>political group</th>\n",
       "    </tr>\n",
       "  </thead>\n",
       "  <tbody>\n",
       "    <tr>\n",
       "      <th>0</th>\n",
       "      <td>184440</td>\n",
       "      <td>JLMelenchon</td>\n",
       "      <td>NUPES</td>\n",
       "    </tr>\n",
       "    <tr>\n",
       "      <th>1</th>\n",
       "      <td>163282</td>\n",
       "      <td>MLP_officiel</td>\n",
       "      <td>RN</td>\n",
       "    </tr>\n",
       "    <tr>\n",
       "      <th>2</th>\n",
       "      <td>50798</td>\n",
       "      <td>AQuatennens</td>\n",
       "      <td>NUPES</td>\n",
       "    </tr>\n",
       "    <tr>\n",
       "      <th>3</th>\n",
       "      <td>45406</td>\n",
       "      <td>Portes_Thomas</td>\n",
       "      <td>NUPES</td>\n",
       "    </tr>\n",
       "    <tr>\n",
       "      <th>4</th>\n",
       "      <td>25801</td>\n",
       "      <td>Francois_Ruffin</td>\n",
       "      <td>NUPES</td>\n",
       "    </tr>\n",
       "    <tr>\n",
       "      <th>...</th>\n",
       "      <td>...</td>\n",
       "      <td>...</td>\n",
       "      <td>...</td>\n",
       "    </tr>\n",
       "    <tr>\n",
       "      <th>73</th>\n",
       "      <td>475</td>\n",
       "      <td>jmzulesi</td>\n",
       "      <td>Ensemble</td>\n",
       "    </tr>\n",
       "    <tr>\n",
       "      <th>74</th>\n",
       "      <td>459</td>\n",
       "      <td>KarineLebon</td>\n",
       "      <td>NUPES</td>\n",
       "    </tr>\n",
       "    <tr>\n",
       "      <th>75</th>\n",
       "      <td>425</td>\n",
       "      <td>E_DupondM</td>\n",
       "      <td>Ensemble</td>\n",
       "    </tr>\n",
       "    <tr>\n",
       "      <th>76</th>\n",
       "      <td>422</td>\n",
       "      <td>phdumont</td>\n",
       "      <td>LR</td>\n",
       "    </tr>\n",
       "    <tr>\n",
       "      <th>77</th>\n",
       "      <td>421</td>\n",
       "      <td>GillesLeGendre</td>\n",
       "      <td>Ensemble</td>\n",
       "    </tr>\n",
       "  </tbody>\n",
       "</table>\n",
       "<p>78 rows × 3 columns</p>\n",
       "</div>"
      ],
      "text/plain": [
       "    weight           handle political group\n",
       "0   184440      JLMelenchon           NUPES\n",
       "1   163282     MLP_officiel              RN\n",
       "2    50798      AQuatennens           NUPES\n",
       "3    45406    Portes_Thomas           NUPES\n",
       "4    25801  Francois_Ruffin           NUPES\n",
       "..     ...              ...             ...\n",
       "73     475         jmzulesi        Ensemble\n",
       "74     459      KarineLebon           NUPES\n",
       "75     425        E_DupondM        Ensemble\n",
       "76     422         phdumont              LR\n",
       "77     421   GillesLeGendre        Ensemble\n",
       "\n",
       "[78 rows x 3 columns]"
      ]
     },
     "execution_count": 27,
     "metadata": {},
     "output_type": "execute_result"
    }
   ],
   "source": [
    "OLs_retweeted_weight_by_pol_group"
   ]
  },
  {
   "cell_type": "code",
   "execution_count": 28,
   "id": "0184c071-a0d5-449b-b487-c845f29f5239",
   "metadata": {},
   "outputs": [
    {
     "name": "stdout",
     "output_type": "stream",
     "text": [
      "DataFrame saved to Excel file: data/twitter_handles/OLs_by_retweets/OLs_retweeted_weight_by_pol_group_inf_rate_test_4.xlsx\n"
     ]
    }
   ],
   "source": [
    "# Define the file path with OLs_retweeted_weight in the name\n",
    "file_path = f\"data/twitter_handles/OLs_by_retweets/OLs_retweeted_weight_by_pol_group_{run_name}.xlsx\"\n",
    "\n",
    "# Save the DataFrame to an Excel file\n",
    "OLs_retweeted_weight_by_pol_group.to_excel(file_path, index=True, header=True, sheet_name='Sheet1')\n",
    "\n",
    "print(f\"DataFrame saved to Excel file: {file_path}\")\n"
   ]
  },
  {
   "cell_type": "markdown",
   "id": "315335fa-e620-439f-b782-d580ea6e00fe",
   "metadata": {},
   "source": [
    "#### Save list of OLs as csv (handle) and excel (handle, affiliation,position)"
   ]
  },
  {
   "cell_type": "code",
   "execution_count": 30,
   "id": "756d6ee6-bcf7-410d-aac1-86533314e441",
   "metadata": {},
   "outputs": [],
   "source": [
    "import os\n",
    "excel_file_path = f\"./data/twitter_handles/{run_name}_OLs_retweeted.csv\"\n",
    "# Assuming OLs_retweeted_weight_by_pol_group['handle'] is a Series or DataFrame\n",
    "OLs_retweeted_weight_by_pol_group['handle'].to_csv(excel_file_path, index=False, header=False)"
   ]
  },
  {
   "cell_type": "code",
   "execution_count": 31,
   "id": "85ceadd0-c5ca-4709-9863-1823d88aa19c",
   "metadata": {},
   "outputs": [],
   "source": [
    "excel_file_path = f\"./data/twitter_handles/{run_name}_OLs_retweeted.xlsx\"\n",
    "OLs_retweeted_weight_by_pol_group.to_excel(excel_file_path, index=False)"
   ]
  },
  {
   "cell_type": "markdown",
   "id": "ef618b86-3920-47c7-9bed-90523cfbea34",
   "metadata": {},
   "source": [
    "## Create the poles dictionary"
   ]
  },
  {
   "cell_type": "markdown",
   "id": "e41d0149-34f9-46b2-b707-dd1999f926af",
   "metadata": {},
   "source": [
    "This is a dictionary with each of the 4 poles, containing handles of each OL"
   ]
  },
  {
   "cell_type": "code",
   "execution_count": 32,
   "id": "017e35d1-9144-4920-a6ce-ba84e00bfccc",
   "metadata": {},
   "outputs": [],
   "source": [
    "# open your previously saved OL list excel \n",
    "excel_file_path = f\"./data/twitter_handles/{run_name}_OLs_retweeted.xlsx\"\n",
    "df_OL = pd.read_excel(excel_file_path)\n",
    "\n",
    "# Replace values in the 'political group' column\n",
    "replace_dict = {'NUPES': 'Nouvelle Union', 'RN': 'Rassemblement National', 'LR': 'Republicains'}\n",
    "df_OL['political group'] = df_OL['political group'].replace(replace_dict)\n",
    "\n",
    "# Create an empty dictionary to store Political Groups and Twitter handles\n",
    "political_groups_dict = {}\n",
    "\n",
    "# Iterate through the DataFrame and populate the dictionary\n",
    "for index, row in df_OL.iterrows():\n",
    "    political_group = row['political group']\n",
    "    twitter_handle = row['handle']\n",
    "    \n",
    "    # Check if the political_group is already a key in the dictionary\n",
    "    if political_group in political_groups_dict:\n",
    "        # If yes, append the twitter_handle to the existing list\n",
    "        political_groups_dict[political_group].append(twitter_handle)\n",
    "    else:\n",
    "        # If not, create a new key with a list containing the twitter_handle\n",
    "        political_groups_dict[political_group] = [twitter_handle]\n",
    "\n",
    "pol_gr_path = f\"./data/load/{run_name}_poles_2023-12-11.pkl\"\n",
    "\n",
    "with open(pol_gr_path, 'wb') as f:\n",
    "    pickle.dump(political_groups_dict, f)"
   ]
  },
  {
   "cell_type": "markdown",
   "id": "ad6983ca-8ec9-4572-890a-ac8475b4a4df",
   "metadata": {},
   "source": [
    "# loading files"
   ]
  },
  {
   "cell_type": "code",
   "execution_count": 34,
   "id": "316386ea-a139-4ded-a694-325a81a7a847",
   "metadata": {},
   "outputs": [],
   "source": [
    "data_path_load=\"./data/load/\"\n",
    "nw_load=\"rt_net_filtered_2023-12-11_dup.csv\"\n",
    "poles_nodes_load=f\"{run_name}_poles_2023-12-11.pkl\"\n",
    "act_dct_load=\"act_dict_2023-12-10_dup.pkl\"\n",
    "\n",
    "data_path_save=\"./data/save/\"\n",
    "elite_con_save=f\"{run_name}_rt_network_econ_cd.csv\"\n",
    "elite_dct_save=f\"{run_name}_elite_dct_cd.p\"\n",
    "degroot_save=f\"{run_name}_degroot_cd.p\"\n",
    "\n",
    "fig_path_save=\"./figures/\"\n",
    "fig_2d_save=f\"{run_name}_degroot_2d_projs\"\n",
    "fig_pca_save=f\"{run_name}_pca_2d_projs\"\n",
    "fig_AvB_save=f\"{run_name}_degroot_AvB\"\n",
    "fig_data_dir=\"fig_data/\"\n",
    "degroot_tol = 1e-1 ## For actual computation, we used 1e-6, but 1e-1 is enough\n",
    "act_min = 5 # filter by amount of activit \n",
    "\n",
    "poles_corresp = {'Nouvelle Union':0,\n",
    "    'Rassemblement National':1,\n",
    "    \"Ensemble\":2,\n",
    "    \"Republicains\":3}"
   ]
  },
  {
   "cell_type": "code",
   "execution_count": 35,
   "id": "f38d0ea6-5f7c-4ad3-97f9-86b3cf71cbf2",
   "metadata": {},
   "outputs": [],
   "source": [
    "## Load elite\n",
    "with open(data_path_load+poles_nodes_load,\"rb\") as f:\n",
    "    poles_nodes_dct = pickle.load(f)\n",
    "## Check that there is no user overlap between parties \n",
    "all_usrs = set()\n",
    "sum_len = 0\n",
    "for party, usrs in poles_nodes_dct.items():\n",
    "    all_usrs.update(usrs)\n",
    "    sum_len += len(usrs)\n",
    "assert sum_len == len(all_usrs)"
   ]
  },
  {
   "cell_type": "code",
   "execution_count": 36,
   "id": "c57ee521-4f6b-487c-a6ec-79d97fa92d0a",
   "metadata": {},
   "outputs": [],
   "source": [
    "## Load network\n",
    "G = nx.read_weighted_edgelist(data_path_load+nw_load,delimiter=\",\",create_using=nx.DiGraph())"
   ]
  },
  {
   "cell_type": "markdown",
   "id": "e2679182-001c-41e6-9fe6-b7c5dc1a568e",
   "metadata": {},
   "source": [
    "DESCRIBING THE NETWORK"
   ]
  },
  {
   "cell_type": "code",
   "execution_count": null,
   "id": "211204a7-f202-4441-a2c1-231246ff38e8",
   "metadata": {},
   "outputs": [],
   "source": [
    "num_nodes = G.number_of_nodes()\n",
    "print(num_nodes)"
   ]
  },
  {
   "cell_type": "code",
   "execution_count": null,
   "id": "6ad52b31-2e93-4707-a0b5-689f29c038c3",
   "metadata": {
    "scrolled": true
   },
   "outputs": [],
   "source": [
    "num_edges = G.number_of_edges()\n",
    "print(num_edges)"
   ]
  },
  {
   "cell_type": "code",
   "execution_count": 37,
   "id": "81244f84-a264-4a08-9aed-568cdefddcf5",
   "metadata": {},
   "outputs": [
    {
     "data": {
      "text/plain": [
       "({'JLMelenchon': array([1., 0., 0.]),\n",
       "  'AQuatennens': array([1., 0., 0.]),\n",
       "  'Portes_Thomas': array([1., 0., 0.]),\n",
       "  'Francois_Ruffin': array([1., 0., 0.]),\n",
       "  'alexiscorbiere': array([1., 0., 0.]),\n",
       "  'mbompard': array([1., 0., 0.]),\n",
       "  'Clem_Autain': array([1., 0., 0.]),\n",
       "  'CaronAymericoff': array([1., 0., 0.]),\n",
       "  'ALeaument': array([1., 0., 0.]),\n",
       "  'yjadot': array([1., 0., 0.]),\n",
       "  'Clemence_Guette': array([1., 0., 0.]),\n",
       "  'TrouveAurelie': array([1., 0., 0.]),\n",
       "  'ericcoquerel': array([1., 0., 0.]),\n",
       "  'RaquelGarridoFr': array([1., 0., 0.]),\n",
       "  'Deputee_Obono': array([1., 0., 0.]),\n",
       "  'l_boyard': array([1., 0., 0.]),\n",
       "  'alma_dufour': array([1., 0., 0.]),\n",
       "  'sebastienjumel': array([1., 0., 0.]),\n",
       "  'EELV': array([1., 0., 0.]),\n",
       "  'WilliamMartinet': array([1., 0., 0.]),\n",
       "  'PrudhommeLoic': array([1., 0., 0.]),\n",
       "  'CarolineFiat54': array([1., 0., 0.]),\n",
       "  'stephane1peu': array([1., 0., 0.]),\n",
       "  'Aurelientache': array([1., 0., 0.]),\n",
       "  'PaulVannierFI': array([1., 0., 0.]),\n",
       "  'FraPiquemal': array([1., 0., 0.]),\n",
       "  'KarineLebon': array([1., 0., 0.]),\n",
       "  'MLP_officiel': array([-0.33333333,  0.94280904,  0.        ]),\n",
       "  'JulienOdoul': array([-0.33333333,  0.94280904,  0.        ]),\n",
       "  'ljacobelli': array([-0.33333333,  0.94280904,  0.        ]),\n",
       "  'BallardPhilippe': array([-0.33333333,  0.94280904,  0.        ]),\n",
       "  'sebchenu': array([-0.33333333,  0.94280904,  0.        ]),\n",
       "  'NMeizonnet': array([-0.33333333,  0.94280904,  0.        ]),\n",
       "  'franckallisio': array([-0.33333333,  0.94280904,  0.        ]),\n",
       "  'diaz_edwige': array([-0.33333333,  0.94280904,  0.        ]),\n",
       "  'JLechanteux': array([-0.33333333,  0.94280904,  0.        ]),\n",
       "  'YoannGillet30': array([-0.33333333,  0.94280904,  0.        ]),\n",
       "  'avecvous': array([-0.33333333, -0.47140452,  0.81649658]),\n",
       "  'EmmanuelMacron': array([-0.33333333, -0.47140452,  0.81649658]),\n",
       "  'benjaminhaddad': array([-0.33333333, -0.47140452,  0.81649658]),\n",
       "  'BrunoLeMaire': array([-0.33333333, -0.47140452,  0.81649658]),\n",
       "  'GDarmanin': array([-0.33333333, -0.47140452,  0.81649658]),\n",
       "  'oliviagregoire': array([-0.33333333, -0.47140452,  0.81649658]),\n",
       "  'olivierveran': array([-0.33333333, -0.47140452,  0.81649658]),\n",
       "  'enmarchefr': array([-0.33333333, -0.47140452,  0.81649658]),\n",
       "  'SachaHoulie': array([-0.33333333, -0.47140452,  0.81649658]),\n",
       "  'AgnesRunacher': array([-0.33333333, -0.47140452,  0.81649658]),\n",
       "  'CZacharopoulou': array([-0.33333333, -0.47140452,  0.81649658]),\n",
       "  'GabrielAttal': array([-0.33333333, -0.47140452,  0.81649658]),\n",
       "  'StanGuerini': array([-0.33333333, -0.47140452,  0.81649658]),\n",
       "  'olivierdussopt': array([-0.33333333, -0.47140452,  0.81649658]),\n",
       "  'CBeaune': array([-0.33333333, -0.47140452,  0.81649658]),\n",
       "  'al_petel': array([-0.33333333, -0.47140452,  0.81649658]),\n",
       "  'Elisabeth_Borne': array([-0.33333333, -0.47140452,  0.81649658]),\n",
       "  'YaelBRAUNPIVET': array([-0.33333333, -0.47140452,  0.81649658]),\n",
       "  'franckriester': array([-0.33333333, -0.47140452,  0.81649658]),\n",
       "  'damienabad': array([-0.33333333, -0.47140452,  0.81649658]),\n",
       "  'ebothorel': array([-0.33333333, -0.47140452,  0.81649658]),\n",
       "  'ericwoerth': array([-0.33333333, -0.47140452,  0.81649658]),\n",
       "  'FJolivet36': array([-0.33333333, -0.47140452,  0.81649658]),\n",
       "  'mguevenoux': array([-0.33333333, -0.47140452,  0.81649658]),\n",
       "  'celinecalvez': array([-0.33333333, -0.47140452,  0.81649658]),\n",
       "  'SebLecornu': array([-0.33333333, -0.47140452,  0.81649658]),\n",
       "  'trudigoz': array([-0.33333333, -0.47140452,  0.81649658]),\n",
       "  'OlgaGivernet': array([-0.33333333, -0.47140452,  0.81649658]),\n",
       "  'ChristopheBechu': array([-0.33333333, -0.47140452,  0.81649658]),\n",
       "  'jmzulesi': array([-0.33333333, -0.47140452,  0.81649658]),\n",
       "  'E_DupondM': array([-0.33333333, -0.47140452,  0.81649658]),\n",
       "  'GillesLeGendre': array([-0.33333333, -0.47140452,  0.81649658]),\n",
       "  'vpecresse': array([-0.33333333, -0.47140452, -0.81649658]),\n",
       "  'ECiotti': array([-0.33333333, -0.47140452, -0.81649658]),\n",
       "  'JulienAubert84': array([-0.33333333, -0.47140452, -0.81649658]),\n",
       "  'GLarrive': array([-0.33333333, -0.47140452, -0.81649658]),\n",
       "  'AurelienPradie': array([-0.33333333, -0.47140452, -0.81649658]),\n",
       "  'ChJacob77': array([-0.33333333, -0.47140452, -0.81649658]),\n",
       "  'brigitte_kuster': array([-0.33333333, -0.47140452, -0.81649658]),\n",
       "  'MichelZumkeller': array([-0.33333333, -0.47140452, -0.81649658]),\n",
       "  'phdumont': array([-0.33333333, -0.47140452, -0.81649658])},\n",
       " ['JLMelenchon',\n",
       "  'AQuatennens',\n",
       "  'Portes_Thomas',\n",
       "  'Francois_Ruffin',\n",
       "  'alexiscorbiere',\n",
       "  'mbompard',\n",
       "  'Clem_Autain',\n",
       "  'CaronAymericoff',\n",
       "  'ALeaument',\n",
       "  'yjadot',\n",
       "  'Clemence_Guette',\n",
       "  'TrouveAurelie',\n",
       "  'ericcoquerel',\n",
       "  'RaquelGarridoFr',\n",
       "  'Deputee_Obono',\n",
       "  'l_boyard',\n",
       "  'alma_dufour',\n",
       "  'sebastienjumel',\n",
       "  'EELV',\n",
       "  'WilliamMartinet',\n",
       "  'PrudhommeLoic',\n",
       "  'CarolineFiat54',\n",
       "  'stephane1peu',\n",
       "  'Aurelientache',\n",
       "  'PaulVannierFI',\n",
       "  'FraPiquemal',\n",
       "  'KarineLebon',\n",
       "  'MLP_officiel',\n",
       "  'JulienOdoul',\n",
       "  'ljacobelli',\n",
       "  'BallardPhilippe',\n",
       "  'sebchenu',\n",
       "  'NMeizonnet',\n",
       "  'franckallisio',\n",
       "  'diaz_edwige',\n",
       "  'JLechanteux',\n",
       "  'YoannGillet30',\n",
       "  'avecvous',\n",
       "  'EmmanuelMacron',\n",
       "  'benjaminhaddad',\n",
       "  'BrunoLeMaire',\n",
       "  'GDarmanin',\n",
       "  'oliviagregoire',\n",
       "  'olivierveran',\n",
       "  'enmarchefr',\n",
       "  'SachaHoulie',\n",
       "  'AgnesRunacher',\n",
       "  'CZacharopoulou',\n",
       "  'GabrielAttal',\n",
       "  'StanGuerini',\n",
       "  'olivierdussopt',\n",
       "  'CBeaune',\n",
       "  'al_petel',\n",
       "  'Elisabeth_Borne',\n",
       "  'YaelBRAUNPIVET',\n",
       "  'franckriester',\n",
       "  'damienabad',\n",
       "  'ebothorel',\n",
       "  'ericwoerth',\n",
       "  'FJolivet36',\n",
       "  'mguevenoux',\n",
       "  'celinecalvez',\n",
       "  'SebLecornu',\n",
       "  'trudigoz',\n",
       "  'OlgaGivernet',\n",
       "  'ChristopheBechu',\n",
       "  'jmzulesi',\n",
       "  'E_DupondM',\n",
       "  'GillesLeGendre',\n",
       "  'vpecresse',\n",
       "  'ECiotti',\n",
       "  'JulienAubert84',\n",
       "  'GLarrive',\n",
       "  'AurelienPradie',\n",
       "  'ChJacob77',\n",
       "  'brigitte_kuster',\n",
       "  'MichelZumkeller',\n",
       "  'phdumont'],\n",
       " {'Nouvelle Union': array([1., 0., 0.]),\n",
       "  'Rassemblement National': array([-0.33333333,  0.94280904,  0.        ]),\n",
       "  'Ensemble': array([-0.33333333, -0.47140452,  0.81649658]),\n",
       "  'Republicains': array([-0.33333333, -0.47140452, -0.81649658])})"
      ]
     },
     "execution_count": 37,
     "metadata": {},
     "output_type": "execute_result"
    }
   ],
   "source": [
    "## Build dictionary of coordinates for elite nodes and list of elite nodes\n",
    "elite_dct, elite_nodes, poles_coord = de_groot_models.assign_poles_to_nodes(poles_corresp,poles_nodes_dct)\n",
    "\n",
    "## Show dictionary with coordinates of elite nodes\n",
    "## These coordinates are obtained using de_groot_models.get_simplex_vertex(D) with D\n",
    "## the number of dimensions, which for a system with n poles is n-1 (for n=3, we have D=2 dimensions).\n",
    "elite_dct,elite_nodes,poles_coord"
   ]
  },
  {
   "cell_type": "code",
   "execution_count": 38,
   "id": "0f25fbaf-7261-4b81-b674-d21ac631638f",
   "metadata": {},
   "outputs": [
    {
     "name": "stdout",
     "output_type": "stream",
     "text": [
      "calculando las conexiones...\n",
      "0 159092\n",
      "1 409055\n",
      "2 544210\n",
      "3 626882\n",
      "4 649197\n",
      "5 652879\n",
      "6 653445\n",
      "7 653605\n",
      "8 653607\n",
      "9 653607\n",
      "Elite-con network: 653612 870462 True\n"
     ]
    }
   ],
   "source": [
    "#  this is to find listeners, those with at least a directed connection \n",
    "G_econ = de_groot_models.get_elite_connected(G, elite_nodes, max_path_len=10)\n",
    "## Show size of elite-connected network and of the original network (for an undirected network they must be the same)\n",
    "print (\"Elite-con network:\", G_econ.order(), G.order(), nx.is_directed(G_econ))"
   ]
  },
  {
   "cell_type": "code",
   "execution_count": 39,
   "id": "a615b83a-b037-42ed-89b7-565b62ffb36c",
   "metadata": {},
   "outputs": [],
   "source": [
    "## Verify that the network is connected (althought not strongly connected)\n",
    "G_nx_UD = misc_tools_paper.better_to_undirected(G_econ)\n",
    "G_nx_UD_GCC = polarization_visualization_tools_paper.get_GCC(G_nx_UD)\n",
    "assert G_nx_UD_GCC.order() == G_econ.order() "
   ]
  },
  {
   "cell_type": "code",
   "execution_count": 40,
   "id": "2ec385ce-139e-4f3a-b297-aef4336c65e7",
   "metadata": {},
   "outputs": [],
   "source": [
    "## Save Elite-connected network\n",
    "nx.write_weighted_edgelist(G_econ,data_path_save+elite_con_save,delimiter=\",\")\n",
    "with open(data_path_save+elite_dct_save,\"wb\") as f:\n",
    "    pickle.dump(elite_dct, f)"
   ]
  },
  {
   "cell_type": "code",
   "execution_count": 41,
   "id": "c40df63c-115e-46be-9f91-67c4711ea6b7",
   "metadata": {},
   "outputs": [
    {
     "name": "stdout",
     "output_type": "stream",
     "text": [
      "Building adjacency matrix...\n",
      "Initializing the model...\n",
      "Solving polarization model with the iterative Ax method\n",
      "0 inf\n",
      "1 61869.15321943797\n",
      "2 27936.088332244926\n",
      "3 17444.831328262375\n",
      "4 13321.259174562561\n",
      "5 10015.96180928703\n",
      "6 7929.595274358603\n",
      "7 6523.966245270875\n",
      "8 5479.923847550543\n",
      "9 4872.660882073578\n",
      "10 4446.413120116931\n",
      "11 4183.667005719174\n",
      "12 3993.973600015717\n",
      "13 3859.8869563906796\n",
      "14 3755.078458829242\n",
      "15 3673.1571361072183\n",
      "16 3604.6560592947985\n",
      "17 3547.1479892458583\n",
      "18 3496.2149663092714\n",
      "19 3451.079119066876\n",
      "20 3409.138737438094\n",
      "21 3370.489438973309\n",
      "22 3333.3950106741086\n",
      "23 3298.207551834268\n",
      "24 3263.748210352466\n",
      "25 3230.389266607958\n",
      "26 3197.4331533770446\n",
      "27 3165.1523884722264\n",
      "28 3133.09894691765\n",
      "29 3101.4647976697474\n",
      "30 3069.981289830139\n",
      "31 3038.8136767419205\n",
      "32 3007.7862140782004\n",
      "33 2977.0346675060905\n",
      "34 2946.4379222330404\n",
      "35 2916.104603556517\n",
      "36 2885.9505472300325\n",
      "37 2856.0564025368767\n",
      "38 2826.3614828953855\n",
      "39 2796.926615041295\n",
      "40 2767.7093753555573\n",
      "41 2738.7573472030563\n",
      "42 2710.0387487701896\n",
      "43 2681.5896123415187\n",
      "44 2653.386738104479\n",
      "45 2625.454576558876\n",
      "46 2597.7775116728976\n",
      "47 2570.3730298914247\n",
      "48 2543.228577069903\n",
      "49 2516.3571385606247\n",
      "50 2489.749448989373\n",
      "51 2463.41393865992\n",
      "52 2437.342809720637\n",
      "53 2411.543800982537\n",
      "54 2386.0101845094055\n",
      "55 2360.746623155935\n",
      "56 2335.7504195030106\n",
      "57 2311.0225667314776\n",
      "58 2286.5609213754033\n",
      "59 2262.3678948468973\n",
      "60 2238.4449381837962\n",
      "61 2214.7969735215306\n",
      "62 2191.4289346060195\n",
      "63 2168.3557687475404\n",
      "64 2145.586583523492\n",
      "65 2123.1181014419085\n",
      "66 2100.9509591589213\n",
      "67 2079.0707813211147\n",
      "68 2057.4659734367006\n",
      "69 2036.1250430099562\n",
      "70 2015.030204741957\n",
      "71 1994.1826892548702\n",
      "72 1973.5686324335588\n",
      "73 1953.1704830530048\n",
      "74 1932.979103149775\n",
      "75 1912.991363388071\n",
      "76 1893.2052127534253\n",
      "77 1873.6177994472837\n",
      "78 1854.2277138473992\n",
      "79 1835.033337014762\n",
      "80 1816.033178370613\n",
      "81 1797.2263478313114\n",
      "82 1778.6104755878978\n",
      "83 1760.1841404486788\n",
      "84 1741.945682804258\n",
      "85 1723.8937017861617\n",
      "86 1706.0263263058855\n",
      "87 1688.3421669822724\n",
      "88 1670.8395421509022\n",
      "89 1653.516842292798\n",
      "90 1636.3723798086858\n",
      "91 1619.4046027238576\n",
      "92 1602.6118227465959\n",
      "93 1585.9924842025714\n",
      "94 1569.5450032278711\n",
      "95 1553.2677626123777\n",
      "96 1537.159046974246\n",
      "97 1521.2172426737782\n",
      "98 1505.440725879893\n",
      "99 1489.8279651579212\n",
      "100 1474.3772861192924\n",
      "101 1459.087144532604\n",
      "102 1443.9560184487543\n",
      "103 1428.9823191843834\n",
      "104 1414.1643951291878\n",
      "105 1399.5007492325287\n",
      "106 1384.9898203690802\n",
      "107 1370.6300352054243\n",
      "108 1356.4197842584556\n",
      "109 1342.3575360689103\n",
      "110 1328.4417900031133\n",
      "111 1314.6710710767654\n",
      "112 1301.0438926450065\n",
      "113 1287.5587603054362\n",
      "114 1274.2142068050669\n",
      "115 1261.0087771954986\n",
      "116 1247.9410558475481\n",
      "117 1235.0096223717537\n",
      "118 1222.213093905459\n",
      "119 1209.5500548729808\n",
      "120 1197.0191263010001\n",
      "121 1184.6189544716838\n",
      "122 1172.3481488379296\n",
      "123 1160.2053615595087\n",
      "124 1148.1892387604773\n",
      "125 1136.2984843345364\n",
      "126 1124.531824145891\n",
      "127 1112.8879305368398\n",
      "128 1101.3654883452398\n",
      "129 1089.9632190430075\n",
      "130 1078.6798869187319\n",
      "131 1067.5142448845506\n",
      "132 1056.4650484691472\n",
      "133 1045.531108441025\n",
      "134 1034.7111988396994\n",
      "135 1024.0041071474495\n",
      "136 1013.4086453596304\n",
      "137 1002.9236406682833\n",
      "138 992.5479343786819\n",
      "139 982.2803783145316\n",
      "140 972.1198369751805\n",
      "141 962.0651877578983\n",
      "142 952.115318734104\n",
      "143 942.2691282936933\n",
      "144 932.5255279225727\n",
      "145 922.8834384428897\n",
      "146 913.3417924355324\n",
      "147 903.8995351340676\n",
      "148 894.5556199615971\n",
      "149 885.3090143846043\n",
      "150 876.1587027631456\n",
      "151 867.1036993865142\n",
      "152 858.1429970600709\n",
      "153 849.2755738530589\n",
      "154 840.5004476582176\n",
      "155 831.8166481665322\n",
      "156 823.2232209466059\n",
      "157 814.7192540668269\n",
      "158 806.3037730528634\n",
      "159 797.9758381321881\n",
      "160 789.734533047886\n",
      "161 781.5789423721681\n",
      "162 773.508165357777\n",
      "163 765.5213108010515\n",
      "164 757.6174969396621\n",
      "165 749.7958513613894\n",
      "166 742.055510904293\n",
      "167 734.3956215654576\n",
      "168 726.8153384033994\n",
      "169 719.3138254470982\n",
      "170 711.8902556005523\n",
      "171 704.543810552427\n",
      "172 697.2736882408859\n",
      "173 690.0790805709064\n",
      "174 682.9591943242418\n",
      "175 675.9132500151451\n",
      "176 668.940470293891\n",
      "177 662.040084444817\n",
      "178 655.2113331244607\n",
      "179 648.4534650601834\n",
      "180 641.7657369639371\n",
      "181 635.1474134478185\n",
      "182 628.5977669395556\n",
      "183 622.1160775995089\n",
      "184 615.7016332378333\n",
      "185 609.3537292330091\n",
      "186 603.0716684506289\n",
      "187 596.8547611634535\n",
      "188 590.7023249718688\n",
      "189 584.6136847254348\n",
      "190 578.5881724449983\n",
      "191 572.6251331891588\n",
      "192 566.7242897446336\n",
      "193 560.8851706753303\n",
      "194 555.1067533722469\n",
      "195 549.3882516680745\n",
      "196 543.7289914006037\n",
      "197 538.1283467023264\n",
      "198 532.5857036329287\n",
      "199 527.1004560741414\n",
      "200 521.67200432998\n",
      "201 516.2997550576521\n",
      "202 510.9831211991669\n",
      "203 505.72152191366473\n",
      "204 500.51438251054526\n",
      "205 495.3611343831714\n",
      "206 490.2612149434173\n",
      "207 485.2140675568459\n",
      "208 480.21914147858945\n",
      "209 475.27589178990996\n",
      "210 470.38377933555364\n",
      "211 465.5422706615692\n",
      "212 460.7508379540084\n",
      "213 456.00895897816946\n",
      "214 451.3161170185586\n",
      "215 446.67180081945327\n",
      "216 442.0755045261429\n",
      "217 437.52672762684216\n",
      "218 433.0249748951286\n",
      "219 428.5697563331555\n",
      "220 424.1605871153592\n",
      "221 419.7969875328461\n",
      "222 415.47848293837967\n",
      "223 411.20460369192597\n",
      "224 406.9748851068936\n",
      "225 402.78886739682423\n",
      "226 398.6460956228006\n",
      "227 394.5461196413213\n",
      "228 390.4884940528541\n",
      "229 386.4727781508387\n",
      "230 382.4985358713386\n",
      "231 378.5653357431947\n",
      "232 374.6727508387588\n",
      "233 370.8203587251347\n",
      "234 367.0077414159782\n",
      "235 363.23448532382247\n",
      "236 359.50018121291106\n",
      "237 355.8044241525501\n",
      "238 352.14681347103254\n",
      "239 348.5269527099258\n",
      "240 344.9444495790743\n",
      "241 341.3989159118353\n",
      "242 337.88996762105813\n",
      "243 334.4172246553538\n",
      "244 330.9803109559777\n",
      "245 327.57885441408587\n",
      "246 324.21248682852473\n",
      "247 320.88084386405757\n",
      "248 317.58356501004124\n",
      "249 314.3202935395873\n",
      "250 311.0906764691455\n",
      "251 307.8943645184909\n",
      "252 304.73101207127166\n",
      "253 301.60027713583867\n",
      "254 298.5018213066172\n",
      "255 295.4353097258148\n",
      "256 292.40041104563903\n",
      "257 289.3967973908613\n",
      "258 286.4241443217897\n",
      "259 283.4821307976953\n",
      "260 280.5704391405828\n",
      "261 277.68875499940464\n",
      "262 274.83676731461736\n",
      "263 272.0141682831883\n",
      "264 269.2206533238891\n",
      "265 266.4559210430963\n",
      "266 263.71967320081967\n",
      "267 261.01161467723637\n",
      "268 258.33145343947604\n",
      "269 255.67890050887044\n",
      "270 253.05366992846066\n",
      "271 250.45547873092968\n",
      "272 247.88404690686212\n",
      "273 245.33909737333607\n",
      "274 242.82035594287007\n",
      "275 240.32755129271794\n",
      "276 237.86041493444984\n",
      "277 235.41868118392927\n",
      "278 233.00208713158432\n",
      "279 230.61037261297542\n",
      "280 228.2432801797323\n",
      "281 225.90055507076437\n",
      "282 223.58194518382695\n",
      "283 221.28720104733966\n",
      "284 219.01607579254656\n",
      "285 216.7683251260102\n",
      "286 214.5437073022932\n",
      "287 212.3419830970713\n",
      "288 210.1629157804313\n",
      "289 208.0062710905271\n",
      "290 205.87181720748413\n",
      "291 203.75932472757188\n",
      "292 201.66856663771134\n",
      "293 199.59931829020394\n",
      "294 197.55135737775691\n",
      "295 195.5244639087785\n",
      "296 193.51842018293118\n",
      "297 191.53301076696135\n",
      "298 189.56802247075802\n",
      "299 187.6232443237318\n",
      "300 185.69846755136064\n",
      "301 183.7934855520854\n",
      "302 181.90809387436525\n",
      "303 180.0420901940541\n",
      "304 178.19527429195477\n",
      "305 176.36744803167446\n",
      "306 174.55841533764146\n",
      "307 172.76798217349594\n",
      "308 170.99595652051232\n",
      "309 169.24214835646347\n",
      "310 167.5063696345422\n",
      "311 165.78843426262446\n",
      "312 164.08815808268122\n",
      "313 162.40535885043965\n",
      "314 160.73985621530292\n",
      "315 159.09147170038932\n",
      "316 157.46002868288733\n",
      "317 155.84535237453082\n",
      "318 154.247269802366\n",
      "319 152.6656097896758\n",
      "320 151.10020293709266\n",
      "321 149.55088160395843\n",
      "322 148.01747988988978\n",
      "323 146.49983361644223\n",
      "324 144.99778030912157\n",
      "325 143.5111591794608\n",
      "326 142.03981110734108\n",
      "327 140.58357862352082\n",
      "328 139.14230589229408\n",
      "329 137.71583869439246\n",
      "330 136.30402441001686\n",
      "331 134.90671200211122\n",
      "332 133.52375199974804\n",
      "333 132.15499648173966\n",
      "334 130.8002990604044\n",
      "335 129.45951486551675\n",
      "336 128.1325005283924\n",
      "337 126.81911416621166\n",
      "338 125.5192153664323\n",
      "339 124.23266517141428\n",
      "340 122.95932606323703\n",
      "341 121.69906194855754\n",
      "342 120.4517381437957\n",
      "343 119.2172213603468\n",
      "344 117.99537969000006\n",
      "345 116.78608259052504\n",
      "346 115.58920087137432\n",
      "347 114.40460667957372\n",
      "348 113.23217348576318\n",
      "349 112.07177607031005\n",
      "350 110.92329050970889\n",
      "351 109.78659416297792\n",
      "352 108.66156565830461\n",
      "353 107.54808487979652\n",
      "354 106.44603295434146\n",
      "355 105.3552922386834\n",
      "356 104.27574630653973\n",
      "357 103.20727993593324\n",
      "358 102.14977909663824\n",
      "359 101.10313093772201\n",
      "360 100.067223775266\n",
      "361 99.04194708017903\n",
      "362 98.02719146618453\n",
      "363 97.02284867790019\n",
      "364 96.02881157901864\n",
      "365 95.04497414069954\n",
      "366 94.07123142997031\n",
      "367 93.10747959837586\n",
      "368 92.15361587062492\n",
      "369 91.20953853344365\n",
      "370 90.2751469245101\n",
      "371 89.3503414214933\n",
      "372 88.43502343126202\n",
      "373 87.52909537915266\n",
      "374 86.632460698338\n",
      "375 85.74502381941048\n",
      "376 84.86669015993282\n",
      "377 83.99736611422516\n",
      "378 83.13695904314079\n",
      "379 82.28537726410276\n",
      "380 81.4425300410589\n",
      "381 80.60832757471624\n",
      "382 79.78268099274814\n",
      "383 78.96550234020745\n",
      "384 78.15670456994398\n",
      "385 77.3562015331857\n",
      "386 76.56390797022785\n",
      "387 75.77973950115434\n",
      "388 75.00361261673633\n",
      "389 74.23544466935549\n",
      "390 73.47515386407368\n",
      "391 72.72265924976188\n",
      "392 71.97788071036838\n",
      "393 71.24073895620616\n",
      "394 70.5111555154133\n",
      "395 69.78905272543534\n",
      "396 69.07435372462581\n",
      "397 68.36698244396904\n",
      "398 67.66686359881288\n",
      "399 66.97392268075062\n",
      "400 66.28808594956637\n",
      "401 65.6092804252539\n",
      "402 64.93743388016088\n",
      "403 64.2724748311513\n",
      "404 63.614332531894924\n",
      "405 62.962936965261704\n",
      "406 62.31821883571074\n",
      "407 61.680109561818995\n",
      "408 61.04854126891304\n",
      "409 60.42344678173182\n",
      "410 59.80475961712373\n",
      "411 59.19241397697864\n",
      "412 58.586344741028114\n",
      "413 57.98648745987068\n",
      "414 57.39277834805036\n",
      "415 56.80515427709371\n",
      "416 56.22355276879341\n",
      "417 55.647911988438324\n",
      "418 55.078170738125266\n",
      "419 54.514268450220825\n",
      "420 53.95614518078148\n",
      "421 53.40374160312509\n",
      "422 52.85699900144373\n",
      "423 52.31585926447632\n",
      "424 51.78026487923731\n",
      "425 51.25015892484106\n",
      "426 50.725485066385744\n",
      "427 50.20618754886836\n",
      "428 49.69221119117311\n",
      "429 49.183501380200276\n",
      "430 48.68000406491379\n",
      "431 48.1816657505594\n",
      "432 47.688433492920566\n",
      "433 47.200254892630234\n",
      "434 46.71707808950264\n",
      "435 46.23885175699449\n",
      "436 45.76552509666947\n",
      "437 45.29704783272828\n",
      "438 44.83337020665945\n",
      "439 44.374442971816556\n",
      "440 43.920217388191446\n",
      "441 43.47064521713063\n",
      "442 43.02567871619765\n",
      "443 42.585270634023686\n",
      "444 42.14937420523504\n",
      "445 41.71794314542454\n",
      "446 41.290931646195844\n",
      "447 40.868294370258106\n",
      "448 40.4499864465433\n",
      "449 40.03596346536636\n",
      "450 39.62618147372223\n",
      "451 39.22059697052555\n",
      "452 38.819166901945046\n",
      "453 38.42184865680987\n",
      "454 38.02860006202335\n",
      "455 37.639379378028174\n",
      "456 37.25414529438271\n",
      "457 36.872856925254204\n",
      "458 36.49547380510133\n",
      "459 36.121955884320975\n",
      "460 35.75226352494431\n",
      "461 35.386357496378295\n",
      "462 35.02419897123736\n",
      "463 34.66574952115928\n",
      "464 34.3109711126963\n",
      "465 33.95982610323627\n",
      "466 33.612277236983594\n",
      "467 33.268287640946106\n",
      "468 32.927820821027964\n",
      "469 32.5908406580543\n",
      "470 32.257311403995736\n",
      "471 31.92719767805479\n",
      "472 31.600464462949965\n",
      "473 31.27707710108653\n",
      "474 30.957001290957194\n",
      "475 30.64020308336694\n",
      "476 30.326648877869452\n",
      "477 30.01630541913445\n",
      "478 29.709139793415066\n",
      "479 29.40511942500732\n",
      "480 29.104212072798497\n",
      "481 28.806385826761318\n",
      "482 28.51160910462436\n",
      "483 28.219850648395393\n",
      "484 27.931079521134013\n",
      "485 27.64526510352989\n",
      "486 27.36237709071679\n",
      "487 27.08238548898936\n",
      "488 26.80526061262457\n",
      "489 26.53097308067384\n",
      "490 26.259493813857397\n",
      "491 25.990794031442146\n",
      "492 25.724845248181403\n",
      "493 25.461619271240863\n",
      "494 25.201088197226508\n",
      "495 24.943224409177763\n",
      "496 24.688000573625065\n",
      "497 24.435389637679204\n",
      "498 24.185364826115077\n",
      "499 23.937899638569508\n",
      "500 23.692967846650387\n",
      "501 23.4505434911645\n",
      "502 23.210600879362385\n",
      "503 22.973114582158534\n",
      "504 22.73805943146307\n",
      "505 22.505410517440133\n",
      "506 22.27514318591007\n",
      "507 22.04723303568665\n",
      "508 21.821655915950426\n",
      "509 21.598387923735142\n",
      "510 21.377405401314725\n",
      "511 21.158684933734772\n",
      "512 20.942203346260186\n",
      "513 20.7279377019469\n",
      "514 20.515865299184732\n",
      "515 20.305963669255757\n",
      "516 20.098210573973212\n",
      "517 19.89258400328637\n",
      "518 19.689062172931255\n",
      "519 19.487623522136783\n",
      "520 19.288246711298367\n",
      "521 19.090910619708914\n",
      "522 18.89559434331543\n",
      "523 18.70227719249452\n",
      "524 18.5109386898237\n",
      "525 18.32155856793608\n",
      "526 18.134116767334948\n",
      "527 17.948593434256676\n",
      "528 17.76496891857012\n",
      "529 17.58322377167628\n",
      "530 17.403338744429455\n",
      "531 17.225294785098463\n",
      "532 17.04907303732784\n",
      "533 16.874654838139346\n",
      "534 16.702021715947932\n",
      "535 16.53115538855491\n",
      "536 16.362037761281037\n",
      "537 16.19465092494649\n",
      "538 16.02897715403309\n",
      "539 15.864998904782231\n",
      "540 15.702698813290462\n",
      "541 15.542059693724333\n",
      "542 15.383064536407039\n",
      "543 15.225696506123787\n",
      "544 15.069938940203096\n",
      "545 14.915775346845109\n",
      "546 14.76318940329957\n",
      "547 14.612164954175226\n",
      "548 14.462686009686934\n",
      "549 14.314736743970315\n",
      "550 14.168301493407785\n",
      "551 14.023364754937534\n",
      "552 13.879911184418368\n",
      "553 13.737925595004432\n",
      "554 13.597392955516318\n",
      "555 13.45829838884975\n",
      "556 13.320627170397373\n",
      "557 13.184364726458535\n",
      "558 13.049496632726761\n",
      "559 12.916008612735206\n",
      "560 12.78388653633158\n",
      "561 12.653116418190772\n",
      "562 12.523684416321927\n",
      "563 12.395576830593846\n",
      "564 12.26878010128966\n",
      "565 12.143280807631056\n",
      "566 12.0190656664267\n",
      "567 11.896121530557977\n",
      "568 11.774435387664155\n",
      "569 11.653994358745233\n",
      "570 11.534785696733566\n",
      "571 11.41679678522152\n",
      "572 11.300015137071881\n",
      "573 11.184428393091705\n",
      "574 11.070024320753935\n",
      "575 10.956790812839802\n",
      "576 10.84471588621609\n",
      "577 10.733787680514983\n",
      "578 10.623994456890527\n",
      "579 10.515324596789913\n",
      "580 10.407766600683503\n",
      "581 10.301309086858454\n",
      "582 10.195940790225476\n",
      "583 10.091650561097667\n",
      "584 9.988427364035203\n",
      "585 9.886260276632484\n",
      "586 9.78513848838999\n",
      "587 9.685051299575438\n",
      "588 9.585988120044393\n",
      "589 9.48793846815379\n",
      "590 9.390891969643521\n",
      "591 9.294838356488473\n",
      "592 9.199767465915604\n",
      "593 9.105669239201083\n",
      "594 9.012533720662885\n",
      "595 8.920351056651183\n",
      "596 8.829111494374974\n",
      "597 8.738805380990081\n",
      "598 8.649423162523371\n",
      "599 8.560955382845085\n",
      "600 8.473392682683158\n",
      "601 8.386725798651975\n",
      "602 8.300945562230885\n",
      "603 8.216042898787872\n",
      "604 8.132008826669399\n",
      "605 8.048834456177007\n",
      "606 7.966510988695121\n",
      "607 7.885029715690655\n",
      "608 7.804382017844014\n",
      "609 7.724559364088522\n",
      "610 7.6455533107477684\n",
      "611 7.567355500607516\n",
      "612 7.489957662044159\n",
      "613 7.413351608134424\n",
      "614 7.337529235818946\n",
      "615 7.262482524992605\n",
      "616 7.188203537703668\n",
      "617 7.114684417271371\n",
      "618 7.041917387485857\n",
      "619 6.969894751750673\n",
      "620 6.898608892306439\n",
      "621 6.828052269377784\n",
      "622 6.758217420400404\n",
      "623 6.689096959230581\n",
      "624 6.620683575369093\n",
      "625 6.552970033140527\n",
      "626 6.485949170984966\n",
      "627 6.4196139006572785\n",
      "628 6.353957206507691\n",
      "629 6.288972144705807\n",
      "630 6.2246518425112045\n",
      "631 6.160989497581139\n",
      "632 6.097978377191218\n",
      "633 6.035611817573398\n",
      "634 5.973883223159073\n",
      "635 5.9127860659563805\n",
      "636 5.852313884749525\n",
      "637 5.792460284514087\n",
      "638 5.733218935693979\n",
      "639 5.674583573527843\n",
      "640 5.6165479973792936\n",
      "641 5.5591060701258455\n",
      "642 5.502251717441618\n",
      "643 5.445978927224257\n",
      "644 5.390281748870828\n",
      "645 5.335154292753402\n",
      "646 5.280590729497103\n",
      "647 5.226585289406615\n",
      "648 5.173132261884652\n",
      "649 5.120225994746969\n",
      "650 5.067860893718184\n",
      "651 5.016031421746465\n",
      "652 4.964732098498147\n",
      "653 4.913957499703127\n",
      "654 4.863702256658981\n",
      "655 4.813961055583802\n",
      "656 4.764728637118055\n",
      "657 4.715999795709471\n",
      "658 4.667769379118071\n",
      "659 4.620032287832216\n",
      "660 4.5727834745194516\n",
      "661 4.526017943551601\n",
      "662 4.479730750405872\n",
      "663 4.433917001175848\n",
      "664 4.3885718520577175\n",
      "665 4.343690508812212\n",
      "666 4.299268226272199\n",
      "667 4.255300307860878\n",
      "668 4.211782105050589\n",
      "669 4.168709016896599\n",
      "670 4.126076489559739\n",
      "671 4.083880015786175\n",
      "672 4.042115134479915\n",
      "673 4.000777430170155\n",
      "674 3.9598625326223216\n",
      "675 3.919366116300004\n",
      "676 3.8792838999359893\n",
      "677 3.8396116460978127\n",
      "678 3.80034516070978\n",
      "679 3.7614802926154702\n",
      "680 3.7230129331603883\n",
      "681 3.684939015734871\n",
      "682 3.6472545153229845\n",
      "683 3.6099554481343112\n",
      "684 3.5730378711420663\n",
      "685 3.5364978816566395\n",
      "686 3.5003316169407186\n",
      "687 3.464535253785174\n",
      "688 3.429105008115075\n",
      "689 3.394037134563802\n",
      "690 3.359327926108838\n",
      "691 3.3249737136591064\n",
      "692 3.290970865666385\n",
      "693 3.257315787758927\n",
      "694 3.2240049223245433\n",
      "695 3.1910347481879815\n",
      "696 3.1584017801842044\n",
      "697 3.126102568816691\n",
      "698 3.094133699903625\n",
      "699 3.0624917941730607\n",
      "700 3.0311735069586994\n",
      "701 3.0001755278128783\n",
      "702 2.969494580141228\n",
      "703 2.939127420932497\n",
      "704 2.909070840299551\n",
      "705 2.8793216612309047\n",
      "706 2.849876739229141\n",
      "707 2.8207329619603807\n",
      "708 2.7918872489371553\n",
      "709 2.7633365512124595\n",
      "710 2.7350778510131253\n",
      "711 2.707108161464531\n",
      "712 2.67942452623331\n",
      "713 2.652024019255534\n",
      "714 2.6249037444072933\n",
      "715 2.5980608351758434\n",
      "716 2.571492454405523\n",
      "717 2.545195793956582\n",
      "718 2.5191680744205667\n",
      "719 2.4934065448346443\n",
      "720 2.467908482389526\n",
      "721 2.442671192110965\n",
      "722 2.4176920066262406\n",
      "723 2.3929682858303893\n",
      "724 2.3684974166550194\n",
      "725 2.3442768127532094\n",
      "726 2.3203039142412636\n",
      "727 2.2965761874295514\n",
      "728 2.2730911245493592\n",
      "729 2.249846243489171\n",
      "730 2.2268390875497093\n",
      "731 2.2040672251274467\n",
      "732 2.181528249544755\n",
      "733 2.1592197787137977\n",
      "734 2.1371394549337444\n",
      "735 2.1152849446133404\n",
      "736 2.093653938040535\n",
      "737 2.072244149157204\n",
      "738 2.051053315261424\n",
      "739 2.03007919681767\n",
      "740 2.009319577184395\n",
      "741 1.9887722624228565\n",
      "742 1.9684350810323519\n",
      "743 1.9483058837228042\n",
      "744 1.928382543189108\n",
      "745 1.9086629538968314\n",
      "746 1.889145031861572\n",
      "747 1.8698267144020089\n",
      "748 1.850705959943338\n",
      "749 1.831780747803612\n",
      "750 1.8130490779659751\n",
      "751 1.7945089708779887\n",
      "752 1.7761584672468202\n",
      "753 1.7579956278076343\n",
      "754 1.7400185331414775\n",
      "755 1.7222252834779541\n",
      "756 1.7046139984547313\n",
      "757 1.6871828169711696\n",
      "758 1.6699298969543488\n",
      "759 1.6528534151727885\n",
      "760 1.635951567063982\n",
      "761 1.6192225664935456\n",
      "762 1.6026646456403864\n",
      "763 1.586276054731908\n",
      "764 1.5700550619182396\n",
      "765 1.5539999530473207\n",
      "766 1.5381090315300168\n",
      "767 1.5223806181029849\n",
      "768 1.506813050694238\n",
      "769 1.4914046842397166\n",
      "770 1.4761538904960114\n",
      "771 1.4610590578752078\n",
      "772 1.4461185912809342\n",
      "773 1.4313309119364837\n",
      "774 1.4166944571974238\n",
      "775 1.4022076804234136\n",
      "776 1.3878690507982696\n",
      "777 1.3736770531289446\n",
      "778 1.3596301877749966\n",
      "779 1.345726970399279\n",
      "780 1.331965931852463\n",
      "781 1.3183456180291488\n",
      "782 1.3048645896812858\n",
      "783 1.291521422299105\n",
      "784 1.278314705928831\n",
      "785 1.265243045043896\n",
      "786 1.252305058407995\n",
      "787 1.2394993788808566\n",
      "788 1.2268246533399267\n",
      "789 1.2142795424797967\n",
      "790 1.2018627207280002\n",
      "791 1.1895728760208173\n",
      "792 1.1774087097547374\n",
      "793 1.165368936602831\n",
      "794 1.1534522843668653\n",
      "795 1.141657493888544\n",
      "796 1.1299833188689508\n",
      "797 1.118428525758267\n",
      "798 1.106991893644377\n",
      "799 1.095672214080524\n",
      "800 1.084468290983624\n",
      "801 1.0733789405170637\n",
      "802 1.0624029909609198\n",
      "803 1.0515392825344747\n",
      "804 1.0407866673725688\n",
      "805 1.0301440093269916\n",
      "806 1.0196101838763294\n",
      "807 1.0091840779801526\n",
      "808 0.99886459003296\n",
      "809 0.9886506296359864\n",
      "810 0.9785411175860641\n",
      "811 0.9685349856957827\n",
      "812 0.9586311767190778\n",
      "813 0.9488286442217907\n",
      "814 0.9391263524606439\n",
      "815 0.929523276289999\n",
      "816 0.9200184010560838\n",
      "817 0.9106107224946672\n",
      "818 0.9012992465752224\n",
      "819 0.8920829894738496\n",
      "820 0.8829609774082812\n",
      "821 0.8739322465664487\n",
      "822 0.8649958429762038\n",
      "823 0.8561508224505753\n",
      "824 0.8473962504378538\n",
      "825 0.8387312019467658\n",
      "826 0.8301547614742218\n",
      "827 0.8216660228230677\n",
      "828 0.8132640891289158\n",
      "829 0.8049480726639557\n",
      "830 0.7967170947735011\n",
      "831 0.7885702858221915\n",
      "832 0.7805067850448547\n",
      "833 0.7725257404831832\n",
      "834 0.7646263088901026\n",
      "835 0.7568076556591826\n",
      "836 0.7490689547062447\n",
      "837 0.7414093883927796\n",
      "838 0.7338281474564013\n",
      "839 0.7263244308949462\n",
      "840 0.7188974459141967\n",
      "841 0.7115464078234442\n",
      "842 0.7042705399504087\n",
      "843 0.6970690735718608\n",
      "844 0.6899412478317639\n",
      "845 0.68288630964694\n",
      "846 0.6759035136390691\n",
      "847 0.6689921220633016\n",
      "848 0.6621514046889361\n",
      "849 0.6553806388041289\n",
      "850 0.6486791090367999\n",
      "851 0.6420461073692576\n",
      "852 0.6354809330042062\n",
      "853 0.6289828923184935\n",
      "854 0.62255129877979\n",
      "855 0.6161854728880347\n",
      "856 0.6098847420726116\n",
      "857 0.6036484406564099\n",
      "858 0.5974759097693262\n",
      "859 0.5913664972752444\n",
      "860 0.585319557719623\n",
      "861 0.5793344522244085\n",
      "862 0.5734105484726378\n",
      "863 0.5675472205927379\n",
      "864 0.5617438491236043\n",
      "865 0.5559998209467709\n",
      "866 0.5503145291955706\n",
      "867 0.5446873732299438\n",
      "868 0.5391177585416138\n",
      "869 0.5336050966959363\n",
      "870 0.5281488053025781\n",
      "871 0.5227483078905829\n",
      "872 0.5174030339125794\n",
      "873 0.5121124186398797\n",
      "874 0.5068759031382455\n",
      "875 0.5016929341695814\n",
      "876 0.49656296416329243\n",
      "877 0.4914854511431432\n",
      "878 0.48645985868458264\n",
      "879 0.4814856558491692\n",
      "880 0.4765623171111084\n",
      "881 0.4716893223410977\n",
      "882 0.46686615671740966\n",
      "883 0.46209231069108786\n",
      "884 0.4573672799040855\n",
      "885 0.45269056517544026\n",
      "886 0.4480616724363395\n",
      "887 0.443480112649436\n",
      "888 0.4389454017897441\n",
      "889 0.4344570607799251\n",
      "890 0.4300146154423595\n",
      "891 0.42561759645480185\n",
      "892 0.4212655392837896\n",
      "893 0.41695798414826063\n",
      "894 0.41269447598108217\n",
      "895 0.4084745643617233\n",
      "896 0.4042978034633498\n",
      "897 0.4001637520382516\n",
      "898 0.39607197334698463\n",
      "899 0.39202203510696115\n",
      "900 0.3880135094628031\n",
      "901 0.3840459729280906\n",
      "902 0.38011900636278245\n",
      "903 0.37623219489832777\n",
      "904 0.372385127913188\n",
      "905 0.3685773989899262\n",
      "906 0.3648086058548133\n",
      "907 0.36107835036028474\n",
      "908 0.35738623843404976\n",
      "909 0.3537318800163521\n",
      "910 0.3501148890534022\n",
      "911 0.34653488342801636\n",
      "912 0.34299148493310144\n",
      "913 0.33948431923756706\n",
      "914 0.3360130158307655\n",
      "915 0.33257720798511337\n",
      "916 0.32917653272767444\n",
      "917 0.3258106308218306\n",
      "918 0.32247914666556987\n",
      "919 0.31918172830747393\n",
      "920 0.315918027410356\n",
      "921 0.3126876991850121\n",
      "922 0.30949040236768743\n",
      "923 0.3063257991882743\n",
      "924 0.3031935553248948\n",
      "925 0.3000933398998828\n",
      "926 0.29702482537772673\n",
      "927 0.29398768760485056\n",
      "928 0.29098160572295684\n",
      "929 0.2880062621630948\n",
      "930 0.285061342622013\n",
      "931 0.2821465359777601\n",
      "932 0.2792615343047873\n",
      "933 0.2764060328308036\n",
      "934 0.27357972990478047\n",
      "935 0.270782326941233\n",
      "936 0.26801352840927156\n",
      "937 0.2652730418324626\n",
      "938 0.2625605776860134\n",
      "939 0.2598758494284887\n",
      "940 0.2572185734398387\n",
      "941 0.25458846900887167\n",
      "942 0.25198525828531926\n",
      "943 0.24940866626043054\n",
      "944 0.24685842074625822\n",
      "945 0.24433425233499503\n",
      "946 0.24183589436416741\n",
      "947 0.2393630829106327\n",
      "948 0.23691555675326917\n",
      "949 0.23449305732354966\n",
      "950 0.23209532871779387\n",
      "951 0.2297221176328729\n",
      "952 0.227373173364592\n",
      "953 0.2250482477673406\n",
      "954 0.22274709524734032\n",
      "955 0.22046947269996897\n",
      "956 0.21821513952977326\n",
      "957 0.2159838575744752\n",
      "958 0.21377539113083824\n",
      "959 0.21158950689404277\n",
      "960 0.20942597396138707\n",
      "961 0.20728456376878335\n",
      "962 0.20516505009000796\n",
      "963 0.20306720904156564\n",
      "964 0.200990818999702\n",
      "965 0.19893566061258897\n",
      "966 0.19690151678067297\n",
      "967 0.19488817261236904\n",
      "968 0.1928954154416655\n",
      "969 0.19092303473194686\n",
      "970 0.1889708221298037\n",
      "971 0.18703857141161018\n",
      "972 0.18512607845306459\n",
      "973 0.18323314122668802\n",
      "974 0.18135955975976417\n",
      "975 0.1795051361301672\n",
      "976 0.17766967445276188\n",
      "977 0.17585298081454534\n",
      "978 0.17405486331066844\n",
      "979 0.17227513199415143\n",
      "980 0.17051359885782869\n",
      "981 0.1687700778166269\n",
      "982 0.1670443846858334\n",
      "983 0.16533633716952018\n",
      "984 0.16364575483055652\n",
      "985 0.16197245907962396\n",
      "986 0.1603162731600733\n",
      "987 0.15867702210812237\n",
      "988 0.1570545327700321\n",
      "989 0.15544863373577697\n",
      "990 0.15385915536832412\n",
      "991 0.15228592976351735\n",
      "992 0.1507287907278645\n",
      "993 0.14918757376760844\n",
      "994 0.14766211607470214\n",
      "995 0.14615225649773025\n",
      "996 0.14465783554489692\n",
      "997 0.14317869536042252\n",
      "998 0.1417146796713113\n",
      "999 0.1402656338436597\n",
      "1000 0.13883140479074765\n",
      "1001 0.1374118410175332\n",
      "1002 0.13600679255214243\n",
      "1003 0.13461611098139176\n",
      "1004 0.13323964939091237\n",
      "1005 0.1318772623887458\n",
      "1006 0.13052880604198\n",
      "1007 0.1291941379068973\n",
      "1008 0.12787311700609716\n",
      "1009 0.12656560377611084\n",
      "1010 0.1252714600982225\n",
      "1011 0.12399054928498318\n",
      "1012 0.12272273600177992\n",
      "1013 0.1214678863357115\n",
      "1014 0.12022586772159162\n",
      "1015 0.11899654895362521\n",
      "1016 0.11777980018670461\n",
      "1017 0.11657549287559466\n",
      "1018 0.1153834998080215\n",
      "1019 0.11420369506387354\n",
      "1020 0.11303595401765103\n",
      "1021 0.11188015330755864\n",
      "1022 0.11073617084899977\n",
      "1023 0.10960388578827049\n",
      "1024 0.1084831785197374\n",
      "1025 0.10737393065637608\n",
      "1026 0.1062760250199096\n",
      "1027 0.10518934563915425\n",
      "1028 0.10411377771397216\n",
      "1029 0.10304920763344151\n",
      "1030 0.10199552293521191\n",
      "1031 0.10095261231682105\n",
      "Solved. Time =  70.83497262001038\n"
     ]
    }
   ],
   "source": [
    "## Compute degroot\n",
    "nodes_order= list(G_econ.nodes)\n",
    "order_dict= dict([ (v,i) for i,v in enumerate(nodes_order) ])\n",
    "degroot = de_groot_models.solve_model_Ax_iterative(\n",
    "                G_econ,\n",
    "                elite_dct,\n",
    "                nodes_order = nodes_order,\n",
    "                order_dict = order_dict,\n",
    "                tol = degroot_tol\n",
    "            )\n",
    "\n",
    "## Save degroot\n",
    "with open(data_path_save+degroot_save,\"wb\") as f:\n",
    "    pickle.dump((nodes_order,order_dict,degroot),f)"
   ]
  },
  {
   "cell_type": "code",
   "execution_count": 42,
   "id": "66014954-6549-4e27-b79a-0516f1562c12",
   "metadata": {},
   "outputs": [],
   "source": [
    "# degroot\n",
    "with open(data_path_save+degroot_save,\"rb\") as f:\n",
    "    data_tuple = pickle.load(f)\n",
    "\n",
    "# index the different parts of the tuple for easy access later \n",
    "nodes_order, order_dict, degroot= data_tuple"
   ]
  },
  {
   "cell_type": "code",
   "execution_count": 43,
   "id": "c48c2a8e-41de-4b88-ba7a-2f89bad14a82",
   "metadata": {},
   "outputs": [
    {
     "name": "stdout",
     "output_type": "stream",
     "text": [
      "kerr 5\n",
      "3818 653612\n",
      "Final number of users:  3818\n"
     ]
    }
   ],
   "source": [
    "## Filter by activity\n",
    "\n",
    "# act min = number of retweets or tweets made by the author  \n",
    "\n",
    "with open(data_path_load+act_dct_load,\"rb\") as f:\n",
    "    act_dct = pickle.load(f)\n",
    "degroot_act_filter = []\n",
    "kerr = 0\n",
    "for i, n in enumerate(nodes_order):\n",
    "    try:\n",
    "        if act_dct[n][\"act\"] >= act_rate:\n",
    "            degroot_act_filter.append(degroot[i])\n",
    "    except KeyError:\n",
    "        kerr += 1\n",
    "print (\"kerr\",kerr)\n",
    "print (len(degroot_act_filter), len(nodes_order))\n",
    "degroot_act_filter = np.array(degroot_act_filter)\n",
    "N_usrs = len(degroot_act_filter)\n",
    "print (\"Final number of users: \", N_usrs)"
   ]
  },
  {
   "cell_type": "code",
   "execution_count": 44,
   "id": "5c1f0bff-f7b3-449f-b0e8-6c7da44cbe79",
   "metadata": {},
   "outputs": [
    {
     "data": {
      "text/plain": [
       "array([[-0.09702808,  0.05646222,  0.22792395],\n",
       "       [ 0.3173004 , -0.22369242,  0.25790957],\n",
       "       [-0.33333333, -0.47140452,  0.81649658],\n",
       "       ...,\n",
       "       [ 0.00460495, -0.27083802,  0.30297469],\n",
       "       [ 0.05532229, -0.31878227,  0.35575312],\n",
       "       [ 0.05532229, -0.31878227,  0.35575312]])"
      ]
     },
     "execution_count": 44,
     "metadata": {},
     "output_type": "execute_result"
    }
   ],
   "source": [
    "degroot_act_filter"
   ]
  },
  {
   "cell_type": "code",
   "execution_count": 45,
   "id": "0f6e05df-a63c-407c-98cf-dbee4062a164",
   "metadata": {},
   "outputs": [
    {
     "data": {
      "text/plain": [
       "numpy.ndarray"
      ]
     },
     "execution_count": 45,
     "metadata": {},
     "output_type": "execute_result"
    }
   ],
   "source": [
    "type(degroot_act_filter)"
   ]
  },
  {
   "cell_type": "markdown",
   "id": "b6b8e126-77db-4d3c-b4fa-8ee5f766ec1f",
   "metadata": {},
   "source": [
    "# Visualise all faces of tetrahedron"
   ]
  },
  {
   "cell_type": "code",
   "execution_count": 46,
   "id": "ff6044b8-87d4-4216-a9c6-1db93749fb81",
   "metadata": {},
   "outputs": [],
   "source": [
    "#  for visualisation here, we should use degroot_act_filter object for everything "
   ]
  },
  {
   "cell_type": "code",
   "execution_count": 47,
   "id": "8cabcdc4-7a0f-48b7-af0c-7b97b44d1c54",
   "metadata": {},
   "outputs": [
    {
     "name": "stdout",
     "output_type": "stream",
     "text": [
      "Computing global polarization compass...\n",
      "Explained variance:  [0.19653358 0.20483411 0.59863231]\n",
      "Projecting 2D points to the sides of triangle...\n",
      "Plotting 1D histogram...\n",
      "Plotting 2D histogram...\n",
      "Plotting 2D contours...\n",
      "Computing 2D kernel...\n",
      "Masking points outside triangle...\n",
      "19937\n",
      "Plotting contours...\n",
      "Plotting polarization compass...\n",
      "Projecting 2D points to the sides of triangle...\n",
      "Plotting 1D histogram...\n",
      "Plotting 2D histogram...\n",
      "Plotting 2D contours...\n",
      "Computing 2D kernel...\n",
      "Masking points outside triangle...\n",
      "19937\n",
      "Plotting contours...\n",
      "Plotting polarization compass...\n",
      "Projecting 2D points to the sides of triangle...\n",
      "Plotting 1D histogram...\n",
      "Plotting 2D histogram...\n",
      "Plotting 2D contours...\n",
      "Computing 2D kernel...\n",
      "Masking points outside triangle...\n",
      "19959\n",
      "Plotting contours...\n",
      "Plotting polarization compass...\n",
      "Projecting 2D points to the sides of triangle...\n",
      "Plotting 1D histogram...\n",
      "Plotting 2D histogram...\n",
      "Plotting 2D contours...\n",
      "Computing 2D kernel...\n",
      "Masking points outside triangle...\n",
      "19959\n",
      "Plotting contours...\n",
      "Plotting polarization compass...\n"
     ]
    }
   ],
   "source": [
    "## Figure 2D projections (paper)\n",
    "\n",
    "fig_name_dct = {True:\"Close\",False:\"All\",\"orthogonal\":\"Ort\",\"from_pole\":\"FrP\"}\n",
    "proj_type = \"orthogonal\"\n",
    "project_close_only = True\n",
    "## Generate sufix name\n",
    "suf1 = fig_name_dct[proj_type]\n",
    "suf2 = fig_name_dct[project_close_only]\n",
    "suf = \"_\" + suf1 + \"_\" + suf2\n",
    "\n",
    "fig = polarization_visualization_tools_paper.vis_2d_projections(\n",
    "degroot_act_filter,\n",
    "show_2d_contours=True,\n",
    "show_center=True,\n",
    "show_barycenter=True,\n",
    "show_global_pca=True,\n",
    "project_close_only=True,\n",
    "save_fig_data=fig_path_save+fig_data_dir+fig_2d_save+suf,\n",
    "proj_type = proj_type,\n",
    ")\n",
    "\n",
    "fig.savefig(fig_path_save+fig_2d_save+suf+\".pdf\")\n",
    "fig.savefig(fig_path_save+fig_2d_save+suf+\".png\",dpi=600,transparent=True)"
   ]
  },
  {
   "cell_type": "markdown",
   "id": "75ccb278-e05e-4dd0-98bf-63f3f4ca8512",
   "metadata": {},
   "source": [
    "# PCA stats + visualisation"
   ]
  },
  {
   "cell_type": "code",
   "execution_count": 49,
   "id": "9245d17a-2817-4f3b-be4e-d70eb24dc6aa",
   "metadata": {},
   "outputs": [
    {
     "data": {
      "text/plain": [
       "<module 'multipolar.polarization_visualization_tools' from '/work/multipolar_4/multipolar/polarization_visualization_tools.py'>"
      ]
     },
     "execution_count": 49,
     "metadata": {},
     "output_type": "execute_result"
    }
   ],
   "source": [
    "from multipolar import polarization_visualization_tools\n",
    "import importlib\n",
    "importlib.reload(polarization_visualization_tools)"
   ]
  },
  {
   "cell_type": "code",
   "execution_count": 50,
   "id": "8f6ecebe-993e-47d0-ae47-adb4b1c13f02",
   "metadata": {},
   "outputs": [
    {
     "data": {
      "text/plain": [
       "(3818, 3)"
      ]
     },
     "execution_count": 50,
     "metadata": {},
     "output_type": "execute_result"
    }
   ],
   "source": [
    "degroot_act_filter.shape"
   ]
  },
  {
   "cell_type": "code",
   "execution_count": 51,
   "id": "8a29aa06-8eb3-467a-92b3-3e53028b8934",
   "metadata": {},
   "outputs": [
    {
     "name": "stdout",
     "output_type": "stream",
     "text": [
      "Computing 2D kernel...\n"
     ]
    }
   ],
   "source": [
    "# latest run, with more elites, more accurate elites, and more data\n",
    "\n",
    "with warnings.catch_warnings(): # Suppress UserWarnings for deprecated distplot\n",
    "    warnings.simplefilter(\"ignore\", category=UserWarning)\n",
    "    _=polarization_visualization_tools.vis_2d_pca(\n",
    "        degroot_act_filter,\n",
    "        pca_to_plot = [0,1], ## Which PCA should be plotted\n",
    "        dir_signs = [1,1], ## To change direction of axis if needed\n",
    "        hist2d_bins = 70,\n",
    "        grid_div = 100,\n",
    "        nlevels = 20,\n",
    "        pole_lbls = list(poles_corresp.keys()),\n",
    "        xlim = None,\n",
    "        ylim = None\n",
    "    )\n",
    "\n",
    "plt.savefig(f'./figures/pca/{run_name}_pca_1_2_degroot_v2.png')"
   ]
  },
  {
   "cell_type": "code",
   "execution_count": 52,
   "id": "a6926e57-b563-45ae-95b4-f32c9e4d17b6",
   "metadata": {},
   "outputs": [
    {
     "name": "stdout",
     "output_type": "stream",
     "text": [
      "Computing 2D kernel...\n"
     ]
    }
   ],
   "source": [
    "# latest run, with more elites, more accurate elites, and more data\n",
    "\n",
    "with warnings.catch_warnings(): # Suppress UserWarnings for deprecated distplot\n",
    "    warnings.simplefilter(\"ignore\", category=UserWarning)\n",
    "    _=polarization_visualization_tools.vis_2d_pca(\n",
    "        degroot_act_filter,\n",
    "        pca_to_plot = [1,2], ## Which PCA should be plotted\n",
    "        dir_signs = [1,1], ## To change direction of axis if needed\n",
    "        hist2d_bins = 70,\n",
    "        grid_div = 100,\n",
    "        nlevels = 20,\n",
    "        pole_lbls = list(poles_corresp.keys()),\n",
    "        xlim = None,\n",
    "        ylim = None\n",
    "    )\n",
    "\n",
    "plt.savefig(f'./figures/pca/{run_name}_pca_2_3_degroot_v2.png')"
   ]
  },
  {
   "cell_type": "markdown",
   "id": "f8d3d1a7-b68d-48e0-9fbe-a1243467dc3c",
   "metadata": {},
   "source": [
    "# PCA and Total Variation stats"
   ]
  },
  {
   "cell_type": "markdown",
   "id": "8a4bc0ec-8e0c-45b2-9ef0-f6f32ea5eee0",
   "metadata": {},
   "source": [
    "PCA"
   ]
  },
  {
   "cell_type": "code",
   "execution_count": 53,
   "id": "7be92640-503e-4f4c-88cb-ddb506f150f7",
   "metadata": {},
   "outputs": [
    {
     "name": "stdout",
     "output_type": "stream",
     "text": [
      "Principal Component 1 (PC1): [-0.25406446  0.91688386 -0.30785587]\n",
      "Principal Component 2 (PC2): [-0.14432089 -0.35067564 -0.92530972]\n",
      "Principal Component 3 (PC3): [ 0.9563591   0.19065829 -0.22141971]\n",
      "Explained Variance PC1: 0.5986\n",
      "Explained Variance PC2: 0.2048\n",
      "Explained Variance PC3: 0.1965\n"
     ]
    }
   ],
   "source": [
    "# # open previously saved degroot file (so we don't have to re-run the calculations) \n",
    "\n",
    "# with open('./data/save/degroot_cd.p',\"rb\") as f:\n",
    "#     data_tuple = pickle.load(f)\n",
    "\n",
    "# # index the different parts of the tuple for easy access later \n",
    "# nodes_order, order_dict, degroot = data_tuple\n",
    "\n",
    "# State what the PC1, PC2, PC3 etc are\n",
    "# Assuming data is your multidimensional array dataset\n",
    "\n",
    "# Apply PCA\n",
    "pca = PCA(n_components=3)\n",
    "principal_components = pca.fit_transform(degroot_act_filter)\n",
    "\n",
    "# Print the first three principal components\n",
    "\n",
    "#  this value here is the direction of relationship of each feautre or dimension. In PC1, the thrid feature has the strongest effect, 0.668, and is positive \n",
    "#  when the value of the third feature increases, the value of PC1 tends to increase as well\n",
    "\n",
    "print(\"Principal Component 1 (PC1):\", pca.components_[0])\n",
    "print(\"Principal Component 2 (PC2):\", pca.components_[1])\n",
    "print(\"Principal Component 3 (PC3):\", pca.components_[2])\n",
    "\n",
    "# Get explained variance ratio\n",
    "explained_variance_ratio = pca.explained_variance_ratio_\n",
    "\n",
    "# Print explained variance for each principal component\n",
    "for i, ratio in enumerate(explained_variance_ratio, start=1):\n",
    "    print(f\"Explained Variance PC{i}: {ratio:.4f}\")\n"
   ]
  },
  {
   "cell_type": "markdown",
   "id": "9fcf8dec-4ff2-4435-a66f-cf384a2423d4",
   "metadata": {},
   "source": [
    "--------------"
   ]
  },
  {
   "cell_type": "markdown",
   "id": "38b701d7-9f98-42e2-b1f5-ddef1461870c",
   "metadata": {},
   "source": [
    "TV - total variation"
   ]
  },
  {
   "cell_type": "code",
   "execution_count": 54,
   "id": "70ed22aa-4a52-4471-a87c-160d5f64cb6e",
   "metadata": {},
   "outputs": [
    {
     "name": "stdout",
     "output_type": "stream",
     "text": [
      "Total Variation: 0.09037772992151508\n"
     ]
    }
   ],
   "source": [
    "#  degroot\n",
    "\n",
    "# Calculate the covariance matrix\n",
    "cov_matrix = np.cov(degroot, rowvar=False)\n",
    "\n",
    "# Calculate the total variation as the trace of the covariance matrix\n",
    "total_variation = np.trace(cov_matrix)\n",
    "\n",
    "print(\"Total Variation:\", total_variation)"
   ]
  },
  {
   "cell_type": "code",
   "execution_count": 55,
   "id": "99d23f95",
   "metadata": {},
   "outputs": [
    {
     "name": "stdout",
     "output_type": "stream",
     "text": [
      "Total Variation: 0.2049774930873794\n"
     ]
    }
   ],
   "source": [
    "#  degroot_act_filter \n",
    "\n",
    "# Calculate the covariance matrix\n",
    "cov_matrix = np.cov(degroot_act_filter, rowvar=False)\n",
    "\n",
    "# Calculate the total variation as the trace of the covariance matrix\n",
    "total_variation = np.trace(cov_matrix)\n",
    "\n",
    "print(\"Total Variation:\", total_variation)"
   ]
  }
 ],
 "metadata": {
  "kernelspec": {
   "display_name": "Python 3 ",
   "language": "python",
   "name": "python3"
  },
  "language_info": {
   "codemirror_mode": {
    "name": "ipython",
    "version": 3
   },
   "file_extension": ".py",
   "mimetype": "text/x-python",
   "name": "python",
   "nbconvert_exporter": "python",
   "pygments_lexer": "ipython3",
   "version": "3.9.0"
  }
 },
 "nbformat": 4,
 "nbformat_minor": 5
}
